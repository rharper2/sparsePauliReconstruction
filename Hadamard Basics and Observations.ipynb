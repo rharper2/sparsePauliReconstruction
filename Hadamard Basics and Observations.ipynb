{
 "cells": [
  {
   "cell_type": "markdown",
   "metadata": {},
   "source": [
    "# Hadamard Basics and Observations\n",
    "# Introduction"
   ]
  },
  {
   "cell_type": "markdown",
   "metadata": {},
   "source": [
    "This workbook is an introduction to the basic concepts and designs relating to the paper \n",
    "\n",
    "**Fast estimation of sparse quantum noise** by *Harper, Yu and Flammia* (in production)\n",
    "\n",
    "This workbook is going to go through the basic ideas behind the Walsh Hadamard Transform for a 2 qubit system. I will focus on the type of transforms, and how it relates eigenvalues (fidelities) and probabilities and measurement outcomes.\n",
    "\n",
    "Copyright 2020: Robin Harper\n"
   ]
  },
  {
   "cell_type": "markdown",
   "metadata": {},
   "source": [
    "# Software needed "
   ]
  },
  {
   "cell_type": "markdown",
   "metadata": {},
   "source": [
    "For this introductory notebook, we need minimal software. All these packages should be available through the Julia package manager.\n",
    "\n",
    "If you get an error trying to \"use\" them the error message tells you how to load them."
   ]
  },
  {
   "cell_type": "code",
   "execution_count": 1,
   "metadata": {},
   "outputs": [
    {
     "data": {
      "text/plain": [
       "#3 (generic function with 1 method)"
      ]
     },
     "execution_count": 1,
     "metadata": {},
     "output_type": "execute_result"
    }
   ],
   "source": [
    "using Hadamard\n",
    "\n",
    "# convenience (type /otimes<tab>) - <tab> is the \"tab\" key.\n",
    "⊗ = kron\n",
    "# type /oplus<tab>\n",
    "⊕ = (x,y)->mod.(x+y,2)\n",
    "\n"
   ]
  },
  {
   "cell_type": "markdown",
   "metadata": {},
   "source": [
    "# Some preliminary information"
   ]
  },
  {
   "cell_type": "markdown",
   "metadata": {},
   "source": [
    "\n",
    "\n",
    "## Conventions\n",
    "\n",
    "### What's in a name?\n",
    "\n",
    "There are a number of conventions as to where which qubit should be. Here we are going to adopt a least significant digit approach - which is different from the normal 'ket' approach.\n",
    "\n",
    "So for example: $IZ$ means an $I$ 'Pauli' on qubit = 2 and a $Z$ 'Pauli' on qubit = 1 (indexing off 1).\n",
    "\n",
    "### Arrays indexed starting with 1.\n",
    "\n",
    "For those less familiar with Julia, unlike - say - python all arrays and vectors are indexed off 1. Without going into the merits or otherwise of this, we just need to keep it in mind. With our bitstring the bitstring 0000 represents the two qubits $II$, it has value 0, but it will index the first value in our vector i.e. 1. \n",
    "\n",
    "\n",
    "### Representing Paulis with bitstrings.\n",
    "\n",
    "There are many ways to represent Paulis with bit strings, including for instance the convention used in **Improved Simulation of Stabilizer Circuits**, *Scott Aaronson and Daniel Gottesman*, [arXiv:quant-ph/0406196v5](https://arxiv.org/abs/quant-ph/0406196v5).\n",
    "\n",
    "Here we are going to use one that allows us to naturally translate the Pauli to its position in our vector of Pauli eigenvalues (of course this is arbitrary, we could map them however we like).\n",
    "\n",
    "The mapping I am going to use is this (together with the least significant convention):\n",
    "\n",
    "---\n",
    "\n",
    "- I $\\rightarrow$ 00\n",
    "- X $\\rightarrow$ 01\n",
    "- Y $\\rightarrow$ 10\n",
    "- Z $\\rightarrow$ 11\n",
    "\n",
    "\n",
    "---\n",
    "\n",
    "\n",
    "This then naturally translates as below:\n",
    "\n",
    "### SuperOperator  - Pauli basis\n",
    "\n",
    "We have defined our SuperOperator basis to be as below, which means with the julia vector starting at 1 we have : \n",
    "\n",
    "<table class=\"tg\" style=\"font-size:large\">\n",
    "  <tr >\n",
    "    <th style=\"text-align:center\">Pauli</th>\n",
    "    <th style=\"text-align:center\">Vector Index</th>\n",
    "    <th style=\"width:100px;text-align:center\">---</th>\n",
    "    <th style=\"text-align:center\">Binary</th>\n",
    "    <th style=\"text-align:center\">Integer</th>\n",
    "  </tr>\n",
    "  <tr >\n",
    "    <td style=\"text-align:center\">II</td>\n",
    "    <td style=\"text-align:center\">1</td>\n",
    "    <td style=\"width:100px;text-align:center\">→</td>\n",
    "    <td style=\"text-align:center\">0000</td>\n",
    "    <td style=\"text-align:center\">0</td>\n",
    "  </tr>\n",
    "  <tr>\n",
    "    <td style=\"text-align:center\">IX</td>\n",
    "    <td style=\"text-align:center\">2</td>\n",
    "    <td style=\"width:100px;text-align:center\">→</td>\n",
    "    <td style=\"text-align:center\">0001</td>\n",
    "    <td style=\"text-align:center\">1</td>\n",
    "  </tr>\n",
    "  <tr>\n",
    "    <td style=\"text-align:center\">IY</td>\n",
    "    <td style=\"text-align:center\">3</td>\n",
    "    <td style=\"width:100px;text-align:center\">→</td>\n",
    "    <td style=\"text-align:center\">0010</td>\n",
    "    <td style=\"text-align:center\">2</td>\n",
    "  </tr>\n",
    "      <tr>\n",
    "    <td style=\"text-align:center\">IZ</td>\n",
    "    <td style=\"text-align:center\">4</td>\n",
    "    <td style=\"width:100px;text-align:center\">→</td>\n",
    "    <td style=\"text-align:center\">0011</td>\n",
    "    <td style=\"text-align:center\">3</td>\n",
    "  </tr>\n",
    "  <tr>\n",
    "    <td style=\"text-align:center\">XI</td>\n",
    "    <td style=\"text-align:center\">5</td>\n",
    "    <td style=\"width:100px;text-align:center\">→</td>\n",
    "    <td style=\"text-align:center\">0100</td>\n",
    "    <td style=\"text-align:center\">4</td>\n",
    "  </tr>\n",
    "  <tr>\n",
    "    <td style=\"text-align:center\">XX</td>\n",
    "    <td style=\"text-align:center\">6</td>\n",
    "    <td style=\"width:100px;text-align:center\">→</td>\n",
    "    <td style=\"text-align:center\">0101</td>\n",
    "    <td style=\"text-align:center\">5</td>\n",
    "  </tr>\n",
    "  <tr>\n",
    "    <td style=\"text-align:center\">XY</td>\n",
    "    <td style=\"text-align:center\">7</td>\n",
    "    <td style=\"width:100px;text-align:center\">→</td>\n",
    "    <td style=\"text-align:center\">0110</td>\n",
    "    <td style=\"text-align:center\">6</td>\n",
    "  </tr>\n",
    "  <tr>\n",
    "    <td style=\"text-align:center\">XZ</td>\n",
    "    <td style=\"text-align:center\">8</td>\n",
    "    <td style=\"width:100px;text-align:center\">→</td>\n",
    "    <td style=\"text-align:center\">0111</td>\n",
    "    <td style=\"text-align:center\">7</td>\n",
    "  </tr>\n",
    "  <tr>\n",
    "    <td style=\"text-align:center\">YI</td>\n",
    "    <td style=\"text-align:center\">9</td>\n",
    "    <td style=\"width:100px;text-align:center\">→</td>\n",
    "    <td style=\"text-align:center\">1000</td>\n",
    "    <td style=\"text-align:center\">8</td>\n",
    "  </tr>\n",
    "  <tr>\n",
    "    <td style=\"text-align:center\">YX</td>\n",
    "    <td style=\"text-align:center\">10</td>\n",
    "    <td style=\"width:100px;text-align:center\">→</td>\n",
    "    <td style=\"text-align:center\">1001</td>\n",
    "    <td style=\"text-align:center\">9</td>\n",
    "  </tr>\n",
    "  <tr>\n",
    "    <td style=\"text-align:center\">YY</td>\n",
    "    <td style=\"text-align:center\">11</td>\n",
    "    <td style=\"width:100px;text-align:center\">→</td>\n",
    "    <td style=\"text-align:center\">1010</td>\n",
    "    <td style=\"text-align:center\">10</td>\n",
    "  </tr>\n",
    "  <tr>\n",
    "    <td style=\"text-align:center\">YZ</td>\n",
    "    <td style=\"text-align:center\">12</td>\n",
    "    <td style=\"width:100px;text-align:center\">→</td>\n",
    "    <td style=\"text-align:center\">1011</td>\n",
    "    <td style=\"text-align:center\">11</td>\n",
    "  </tr>\n",
    "  <tr>\n",
    "    <td style=\"text-align:center\">ZI</td>\n",
    "    <td style=\"text-align:center\">13</td>\n",
    "    <td style=\"width:100px;text-align:center\">→</td>\n",
    "    <td style=\"text-align:center\">1100</td>\n",
    "    <td style=\"text-align:center\">12</td>\n",
    "  </tr>\n",
    "  <tr>\n",
    "    <td style=\"text-align:center\">ZX</td>\n",
    "    <td style=\"text-align:center\">14</td>\n",
    "    <td style=\"width:100px;text-align:center\">→</td>\n",
    "    <td style=\"text-align:center\">1101</td>\n",
    "    <td style=\"text-align:center\">13</td>\n",
    "  </tr>\n",
    "  <tr>\n",
    "    <td style=\"text-align:center\">ZY</td>\n",
    "    <td style=\"text-align:center\">15</td>\n",
    "    <td style=\"width:100px;text-align:center\">→</td>\n",
    "    <td style=\"text-align:center\">1110</td>\n",
    "    <td style=\"text-align:center\">14</td>\n",
    "  </tr>\n",
    "      <tr>\n",
    "    <td style=\"text-align:center\">ZZ</td>\n",
    "    <td style=\"text-align:center\">16</td>\n",
    "    <td style=\"width:100px;text-align:center\">→</td>\n",
    "    <td style=\"text-align:center\">1111</td>\n",
    "    <td style=\"text-align:center\">15</td>\n",
    "  </tr>\n",
    "\n",
    "\n",
    "</table>\n",
    "\n",
    "I have set this out in painful detail, because its important to understand the mapping for the rest to make sense.\n",
    "\n",
    "So for instance in our EIGENVALUE vector (think superoperator diagonal, or what we used to call the Pauli fidelities), the PAULI $YX$ has binary representation $Y$=10 $X$=01, therefore 1001, has \"binary-value\" 9 and is the 10th (9+1) entry in our eigenvalue vector.\n",
    "\n",
    "## What's in a Walsh Hadamard Transform?\n",
    "\n",
    "The standard Walsh-Hadmard transform is based off tensor (Kronecker) products of the following matrix:\n",
    "\n",
    "$$\\left(\\begin{array}{cc}1 & 1\\\\1 & -1\\end{array}\\right)^{\\otimes n}$$\n",
    "\n",
    "### WHT_natural\n",
    "\n",
    "So for one qubit it would be:\n",
    "\n",
    "$\\begin{array}{cc}\n",
    "& \\begin{array}{cccc} \\quad 00 &  \\quad 01 & \\quad 10  &\\quad 11 \\end{array}\\\\\n",
    "\\begin{array}{c} 00\\\\ 01\\\\ 10\\\\11\\end{array} &\n",
    "  \\left(\\begin{array}{cccc}\n",
    "   \\quad 1&\\quad 1& \\quad 1 &\\quad 1\\\\\n",
    "   \\quad 1 &\\quad -1 & \\quad 1 &\\quad -1\\\\   \\quad 1&\\quad 1 & \\quad -1 &\\quad -1\\\\   \\quad 1 &\\quad -1 & \\quad -1 &\\quad 1\\\\\\end{array}\\right)\n",
    "\\end{array}$\n",
    "\n",
    "where I have included above (and to the left) of the transform matrix the binary representations of the position and the matrix can also be calculated as $(-1)^{\\langle i,j\\rangle}$ where the inner product here is the binary inner product $i,j\\in\\mathbb{F}_2^n$ as $\\langle i,j\\rangle=\\sum^{n-1}_{t=0}i[t]j[t]$ with arithmetic over $\\mathbb{F}_2$ \n",
    "\n",
    "### WHT_Pauli\n",
    "\n",
    "In the paper we use a different form of the Walsh-Hadamard transform. In this case we use the inner product of the Paulis, not the 'binary bitstring' inner product. The matrix is subtly different some rows or, if you prefer, columns are swapped:\n",
    "\n",
    "$\\begin{array}{cc}\n",
    "& \\begin{array}{cccc} I(00) &  X(01) & Y(10)  & Z(11) \\end{array}\\\\\n",
    "\\begin{array}{c} I(00)\\\\ X(01)\\\\ Y(10)\\\\Z(11)\\end{array} &\n",
    "  \\left(\\begin{array}{cccc}\n",
    "   \\quad 1&\\quad 1& \\quad 1 &\\quad 1\\\\\n",
    "   \\quad 1 &\\quad 1 & \\quad -1 &\\quad -1\\\\   \\quad 1&\\quad -1 & \\quad 1 &\\quad -1\\\\   \\quad 1 &\\quad -1 & \\quad -1 &\\quad 1\\\\\\end{array}\\right)\n",
    "\\end{array}$\n",
    "\n",
    "To calculate this one, we can use the 'symplectic inner product' to work it out. In particular for one of the indices you just need to swap the X and Y components. A matrix of the form\n",
    "\n",
    "$$\\begin{align}\n",
    "    J_n = \\mathbf{I}_n\\otimes X = \\left(\\begin{smallmatrix}\n",
    "    0 & 1 & & & \\\\\n",
    "    1 & 0 & & & \\\\\n",
    "      & & \\ddots & & \\\\\n",
    "      & & & 0 & 1  \\\\\n",
    "      & & & 1 & 0  \n",
    "    \\end{smallmatrix}\\right),\n",
    "\\end{align}$$\n",
    "\n",
    "will do this and then use the binary inner product between the index and the transformed index. (The binary inner is detailed above).\n",
    "\n",
    "### Which one to use\n",
    "\n",
    "When transforming Pauli eigenvalue to the probability of a particular error occuring, there are distinct advantages in using the WHT_Pauli transform. The order of the Pauli errors and the order of the Pauli eigenvalues remains the same. However, most common packages (including the one we are going to use here in Julia) don't support this type of transform, rather they implement the WHT_natural transform. The WHT_natural transform also makes the peeling algorithm slightly less fiddly. **However** it does mean we need to be very careful about the order of things. If we use the WHT_natural transform then the following relationship holds - *note the indices (labels) of the Paulis in the probability vector*:\n",
    "\n",
    "\n",
    "![Example of Index change](./figures/HadamardNa.jpg)\n",
    "\n",
    "So the natural translation (labelling of Paulis) then becomes as follows:\n",
    "\n",
    "### Eigenvalue vector space ###\n",
    "\n",
    "\n",
    "- I $\\rightarrow$ 00\n",
    "- X $\\rightarrow$ 01\n",
    "- Y $\\rightarrow$ 10\n",
    "- Z $\\rightarrow$ 11\n",
    "\n",
    "### Probability vector space ###\n",
    "\n",
    "\n",
    "- I $\\rightarrow$ 00\n",
    "- X $\\rightarrow$ 10\n",
    "- Y $\\rightarrow$ 01\n",
    "- Z $\\rightarrow$ 11\n",
    "\n",
    "---\n",
    "\n",
    "The numbers here are the numbers from a previous example (with sparse errors) - for the purposes of demonstrating the next step, I'll use a denser probability distribution.\n"
   ]
  },
  {
   "cell_type": "markdown",
   "metadata": {},
   "source": [
    "# Set up some Pauli Errors to demonstrate"
   ]
  },
  {
   "cell_type": "code",
   "execution_count": 2,
   "metadata": {},
   "outputs": [
    {
     "name": "stdout",
     "output_type": "stream",
     "text": [
      "Basic SuperOperator (diagonal): [1.0, 0.978, 0.99, 0.972, 0.93, 0.90954, 0.9207, 0.90396, 0.95, 0.9291, 0.9405, 0.9234, 0.9, 0.8802, 0.891, 0.8748]\n",
      "Distribution: [0.930825, 0.00945, 0.00378, 0.000945, 0.02955, 0.0003, 0.00012, 3.0e-5, 0.0197, 0.0002, 8.0e-5, 2.0e-5, 0.004925, 5.0e-5, 2.0e-5, 5.0e-6]\n"
     ]
    }
   ],
   "source": [
    "# TO demonstrate the peeling decoder we are going to set up a sparse (fake) distribution.\n",
    "# This is going to mirror the example shown above - \n",
    "# NOTE Julia indexing starts at 1, so we add 1 to the integers in the above table\n",
    "# TO demonstrate the peeling decoder we are going to set up a sparse (fake) distribution.\n",
    "# This is going to be a 4 qubit (so 4^4 = 256 possible probabilities)\n",
    "\n",
    "dist = zeros(16)\n",
    "cl = zeros(2,4)\n",
    "\n",
    "# Qubit 1\n",
    "cl[1,2] = 0.01 #y1\n",
    "cl[1,3] = 0.004 #x1\n",
    "cl[1,4] = 0.001 #z1\n",
    "cl[1,1] = 1-sum(cl[1,:])\n",
    "\n",
    "# Qubit 2\n",
    "cl[2,2] = 0.03\n",
    "cl[2,3] = 0.02\n",
    "cl[2,4]=  0.005\n",
    "cl[2,1] = 1-sum(cl[2,:])\n",
    "\n",
    "for q1 in 1:4\n",
    "    for q2 in 1:4\n",
    "      dist[(q2-1)*4+q1] = cl[1,q1]*cl[2,q2]\n",
    "    end\n",
    "end\n",
    "\n",
    "# rounding to 10 digits just to get rid of some annoying numerical instability\n",
    "dist = round.(dist,digits=10)\n",
    "basicSuperOpDiagonal = round.(ifwht_natural(dist),digits=10)\n",
    "print(\"Basic SuperOperator (diagonal): $basicSuperOpDiagonal\\n\")\n",
    "print(\"Distribution: $(dist)\\n\")"
   ]
  },
  {
   "cell_type": "markdown",
   "metadata": {},
   "source": [
    "## So why do we need the transform.\n",
    "\n",
    "There are two main reasons:\n",
    "\n",
    "- We can determine the eigenvalues in a SPAM (state preperation and measurement) error free way. This uses the technicques of randomised benchmarking and is listed later.\n",
    "- We can't actually deteremine the probabilities directly - but we can determine the eigenvalues.\n",
    "\n",
    "Why do I say we can't determine the probabilities directly?\n",
    "\n",
    "## How to work out what we \"measure\"\n",
    "\n",
    "Well we can only measure a commuting set of probabilities simultaneously (as otherwise the measurement alters the state). So for instance if we prepare in the computational basis $|00\\rangle\\langle00|$, and measure the overlap between the noise altered state and the different computational basis states we get a probability distribution of the chance of *observing* an error.\n",
    "\n",
    "So our measurements here are a projective basis.\n",
    "\n",
    "$M_{00}=|00\\rangle\\langle00|,M_{01}=|01\\rangle\\langle01|,M_{10}=|10\\rangle\\langle10|,M_{11}=|11\\rangle\\langle11|$\n",
    "\n",
    "Which you should be able to convince yourself form the following density matrices:\n",
    "\n",
    "$M_{00}=\\left(\\begin{array}{cc}1&0&0&0\\\\0&0&0&0\\\\0&0&0&0\\\\0&0&0&0\\end{array}\\right), M_{01}=\\left(\\begin{array}{cc}0&0&0&0\\\\0&1&0&0\\\\0&0&0&0\\\\0&0&0&0\\end{array}\\right),M_{10}=\\left(\\begin{array}{cc}0&0&0&0\\\\0&0&0&0\\\\0&0&1&0\\\\0&0&0&0\\end{array}\\right),M_{11}=\\left(\\begin{array}{cc}0&0&0&0\\\\0&0&0&0\\\\0&0&0&0\\\\0&0&0&1\\end{array}\\right)$ \n",
    "\n",
    "(note they sum to the identity matrix - see Neilson & Chuang as to why this is a POVM).\n",
    "\n",
    "And if we vectorise these in the Pauli basis we get the following:\n",
    "\n",
    "$(M_{00}|=\\left(\\begin{array}{*{11}c} 1 & 0 & 0 & 1 & 0 & 0 & 0 & 0 & 0 & 0 & 0 & 0 & 1 & 0 & 0 & 1 &\\end{array}\\right)$\n",
    "\n",
    "$(M_{01}|=\\left(\\begin{array}{*{11}c} 1 & 0 & 0 & -1 & 0 & 0 & 0 & 0 & 0 & 0 & 0 & 0 & 1 & 0 & 0 & -1  \\end{array}\\right)$\n",
    "\n",
    "$(M_{10}|=\\left(\\begin{array}{*{11}c} 1 & 0 & 0 & 1 & 0 & 0 & 0 & 0 & 0 & 0 & 0 & 0 & -1 & 0 & 0 & -1  \\end{array}\\right)$\n",
    "\n",
    "$(M_{11}|=\\left(\\begin{array}{*{11}c} 1 & 0 & 0 & -1 & 0 & 0 & 0 & 0 & 0 & 0 & 0 & 0 & -1 & 0 & 0 & 1  \\end{array}\\right)$\n",
    "\n",
    "\n",
    "Where I have ignored the normalisation factor of 0.25 in front of each of these (Sometimes you will see the normalisation split evenly betweeen the state prep and measurment - i.e 0.5 on both). Basically I'll just divide everything by 4!\n",
    "\n",
    "The state preperation vector is just \n",
    "\n",
    "$|\\rho_{00})=||00\\rangle\\langle00|)=\\left(\\begin{array}{*{11}c} 1 \\\\ 0 \\\\ 0 \\\\ 1 \\\\ 0 \\\\ 0 \\\\ 0 \\\\ 0 \\\\ 0 \\\\ 0 \\\\ 0 \\\\ 0 \\\\ 1 \\\\ 0 \\\\ 0 \\\\ 1 \\\\ \\end{array}\\right)$\n",
    "\n",
    ", so we can see in the absence of noise\n",
    "\n",
    "$(M_{00}|\\rho_{00}) = 1$,$(M_{01}|\\rho_{00}) = 0$,$(M_{10}|\\rho_{00}) = 0$,$(M_{11}|\\rho_{00}) = 0$\n",
    "\n",
    "which (since they form a basis) is what we would expect.\n",
    "\n",
    "So how does noise affect this?"
   ]
  },
  {
   "cell_type": "code",
   "execution_count": 3,
   "metadata": {},
   "outputs": [
    {
     "data": {
      "text/plain": [
       "4-element Array{Array{Int64,1},1}:\n",
       " [1, 0, 0, 1, 0, 0, 0, 0, 0, 0, 0, 0, 1, 0, 0, 1]\n",
       " [1, 0, 0, -1, 0, 0, 0, 0, 0, 0, 0, 0, 1, 0, 0, -1]\n",
       " [1, 0, 0, 1, 0, 0, 0, 0, 0, 0, 0, 0, -1, 0, 0, -1]\n",
       " [1, 0, 0, -1, 0, 0, 0, 0, 0, 0, 0, 0, -1, 0, 0, 1]"
      ]
     },
     "execution_count": 3,
     "metadata": {},
     "output_type": "execute_result"
    }
   ],
   "source": [
    "zs = \n",
    " [[1, 0, 0, 1, 0, 0, 0, 0, 0, 0, 0, 0, 1, 0, 0, 1],\n",
    " [1, 0, 0, -1, 0, 0, 0, 0, 0, 0, 0, 0, 1, 0, 0, -1],\n",
    " [1, 0, 0, 1, 0, 0, 0, 0, 0, 0, 0, 0, -1, 0, 0, -1],\n",
    " [1, 0, 0, -1, 0, 0, 0, 0, 0, 0, 0, 0, -1, 0, 0, 1]]"
   ]
  },
  {
   "cell_type": "code",
   "execution_count": 4,
   "metadata": {},
   "outputs": [],
   "source": [
    "# Side note if you have installed my Juqst package (see https://github.com/rharper2/Juqst.jl), then\n",
    "# You can generate these for any size using Juqst.genZs(2) (for 2 qubits)."
   ]
  },
  {
   "cell_type": "code",
   "execution_count": 5,
   "metadata": {},
   "outputs": [
    {
     "data": {
      "text/plain": [
       "16×16 Array{Float64,2}:\n",
       " 1.0  0.0    0.0   0.0    0.0   …  0.0     0.0  0.0     0.0    0.0\n",
       " 0.0  0.978  0.0   0.0    0.0      0.0     0.0  0.0     0.0    0.0\n",
       " 0.0  0.0    0.99  0.0    0.0      0.0     0.0  0.0     0.0    0.0\n",
       " 0.0  0.0    0.0   0.972  0.0      0.0     0.0  0.0     0.0    0.0\n",
       " 0.0  0.0    0.0   0.0    0.93     0.0     0.0  0.0     0.0    0.0\n",
       " 0.0  0.0    0.0   0.0    0.0   …  0.0     0.0  0.0     0.0    0.0\n",
       " 0.0  0.0    0.0   0.0    0.0      0.0     0.0  0.0     0.0    0.0\n",
       " 0.0  0.0    0.0   0.0    0.0      0.0     0.0  0.0     0.0    0.0\n",
       " 0.0  0.0    0.0   0.0    0.0      0.0     0.0  0.0     0.0    0.0\n",
       " 0.0  0.0    0.0   0.0    0.0      0.0     0.0  0.0     0.0    0.0\n",
       " 0.0  0.0    0.0   0.0    0.0   …  0.0     0.0  0.0     0.0    0.0\n",
       " 0.0  0.0    0.0   0.0    0.0      0.9234  0.0  0.0     0.0    0.0\n",
       " 0.0  0.0    0.0   0.0    0.0      0.0     0.9  0.0     0.0    0.0\n",
       " 0.0  0.0    0.0   0.0    0.0      0.0     0.0  0.8802  0.0    0.0\n",
       " 0.0  0.0    0.0   0.0    0.0      0.0     0.0  0.0     0.891  0.0\n",
       " 0.0  0.0    0.0   0.0    0.0   …  0.0     0.0  0.0     0.0    0.8748"
      ]
     },
     "execution_count": 5,
     "metadata": {},
     "output_type": "execute_result"
    }
   ],
   "source": [
    "using LinearAlgebra\n",
    "\n",
    "superOperatorNoise = diagm(0=>basicSuperOpDiagonal)\n"
   ]
  },
  {
   "cell_type": "markdown",
   "metadata": {},
   "source": [
    "## If we measure this noise using these measurement operators then we get the following:"
   ]
  },
  {
   "cell_type": "code",
   "execution_count": 6,
   "metadata": {},
   "outputs": [
    {
     "name": "stdout",
     "output_type": "stream",
     "text": [
      "M_00 = ↑↑ = 0.9367\n",
      "M_01 = ↑↓ = 0.0133\n",
      "M_10 = ↓↑ = 0.0493\n",
      "M_11 = ↓↓ = 0.0007\n",
      "total probability = 1.0\n"
     ]
    }
   ],
   "source": [
    "# The measurement outcomes are then:\n",
    "print(\"M_00 = ↑↑ = $(round(0.25*zs[1]'*superOperatorNoise*zs[1],digits=10))\\n\")\n",
    "print(\"M_01 = ↑↓ = $(round(0.25*zs[2]'*superOperatorNoise*zs[1],digits=10))\\n\")\n",
    "print(\"M_10 = ↓↑ = $(round(0.25*zs[3]'*superOperatorNoise*zs[1],digits=10))\\n\")\n",
    "print(\"M_11 = ↓↓ = $(round(0.25*zs[4]'*superOperatorNoise*zs[1],digits=10))\\n\")\n",
    "outcomes = 0.25.*[x'*superOperatorNoise*zs[1] for x in zs]\n",
    "print(\"total probability = $(sum(outcomes))\\n\")\n"
   ]
  },
  {
   "cell_type": "markdown",
   "metadata": {},
   "source": [
    "### What do these probabilities represent?\n",
    "\n",
    "Basically if we took a quantum device, prepared the |00$\\rangle$ state, subjected it to that noisy channel and then measured the resulting state, we would expect to see the above probability distribution on the measurement results.\n",
    "\n",
    "One question we might ask then is what would we see if we ran it through the noisy channel twice. Well because we know the noisy channel we can simply apply it twice in simulation and see the new probability distribution.\n",
    "\n",
    "On an actual device we can only see the probability distribution for $2^n$ commuting measurements at a time - and that makes it a lot more difficult to work the global probability distribution - as we explore now:"
   ]
  },
  {
   "cell_type": "markdown",
   "metadata": {},
   "source": [
    "## So how does this relate to the acutal global distribution we had?\n",
    "\n",
    "Well at first blush it doesn't if we remember the actual probability distribution looks like this:"
   ]
  },
  {
   "cell_type": "code",
   "execution_count": 7,
   "metadata": {},
   "outputs": [
    {
     "data": {
      "text/plain": [
       "fidelityLabels (generic function with 1 method)"
      ]
     },
     "execution_count": 7,
     "metadata": {},
     "output_type": "execute_result"
    }
   ],
   "source": [
    "# Some function to give us labels:\n",
    "function probabilityLabels(x;qubits=2)\n",
    "    str = string(x,base=4,pad=qubits)\n",
    "    paulis = ['I','Y','X','Z']\n",
    "    return map(x->paulis[parse(Int,x)+1],str)\n",
    "end\n",
    "\n",
    "function fidelityLabels(x;qubits=2)\n",
    "    str = string(x,base=4,pad=qubits)\n",
    "    paulis = ['I','X','Y','Z']\n",
    "    return map(x->paulis[parse(Int,x)+1],str)\n",
    "end"
   ]
  },
  {
   "cell_type": "code",
   "execution_count": 8,
   "metadata": {},
   "outputs": [
    {
     "name": "stdout",
     "output_type": "stream",
     "text": [
      "1: II: 0.930825\n",
      "2: IY: 0.00945\n",
      "3: IX: 0.00378\n",
      "4: IZ: 0.000945\n",
      "5: YI: 0.02955\n",
      "6: YY: 0.0003\n",
      "7: YX: 0.00012\n",
      "8: YZ: 3.0e-5\n",
      "9: XI: 0.0197\n",
      "10: XY: 0.0002\n",
      "11: XX: 8.0e-5\n",
      "12: XZ: 2.0e-5\n",
      "13: ZI: 0.004925\n",
      "14: ZY: 5.0e-5\n",
      "15: ZX: 2.0e-5\n",
      "16: ZZ: 5.0e-6\n"
     ]
    }
   ],
   "source": [
    "\n",
    "# Print label and probability\n",
    "for i in 1:16\n",
    "    print(\"$i: $(probabilityLabels(i-1)): $(dist[i])\\n\")\n",
    "end"
   ]
  },
  {
   "cell_type": "markdown",
   "metadata": {},
   "source": [
    "So we can see the IZ pauli error rate is 0.00945, yet we measured updown as 0.0133, what gives?\n",
    "\n",
    "Well the probability of \"seeing\" an error in the computational basis is NOT the IZ error rate. In fact we can't see a Z error at all. We can only *see* an X or a Y error.\n",
    "\n",
    "Therefore we will *see* an error on qubit 1 (only) if there is no error *seen* on qubit 2, and an error seen on qubit 1. The pauli errors that will give us *only* an error on qubit 1 are:\n",
    "\n",
    "IX, IY, ZY and ZX (recall qubit 1 is the right most digit).\n",
    "\n",
    "Those correspond to indices 2,3, 14 and 15 above:"
   ]
  },
  {
   "cell_type": "code",
   "execution_count": 9,
   "metadata": {},
   "outputs": [
    {
     "name": "stdout",
     "output_type": "stream",
     "text": [
      "Sum of relevant probabilities: 0.0133\n",
      "Expected measurement outcome: M_01 = ↑↓ = 0.0133\n"
     ]
    }
   ],
   "source": [
    "print(\"Sum of relevant probabilities: $(dist[2]+dist[3]+dist[14]+dist[15])\\n\")\n",
    "print(\"Expected measurement outcome: M_01 = ↑↓ = $(round(0.25*zs[2]'*superOperatorNoise*zs[1],digits=10))\\n\")"
   ]
  },
  {
   "cell_type": "markdown",
   "metadata": {},
   "source": [
    "Similarly if we wanted the probability of *seeing* an error on qubit 2,\n",
    "\n",
    "XI, YI, YZ, XZ\n",
    "(9,5,8 and 12)"
   ]
  },
  {
   "cell_type": "code",
   "execution_count": 10,
   "metadata": {},
   "outputs": [
    {
     "name": "stdout",
     "output_type": "stream",
     "text": [
      "Sum of relevant probabilities: 0.0493\n",
      "Expected measurement outcome: M_10 = ↓↑ = 0.0493\n"
     ]
    }
   ],
   "source": [
    "print(\"Sum of relevant probabilities: $(round(dist[9]+dist[5]+dist[8]+dist[12],digits=10))\\n\")\n",
    "print(\"Expected measurement outcome: M_10 = ↓↑ = $(round(0.25*zs[3]'*superOperatorNoise*zs[1],digits=10))\\n\")"
   ]
  },
  {
   "cell_type": "markdown",
   "metadata": {},
   "source": [
    "And finally the chance of seeing an error on BOTH qubits is\n",
    "YX, YY, XX, XY\n",
    "(7,6,11,10)"
   ]
  },
  {
   "cell_type": "code",
   "execution_count": 11,
   "metadata": {},
   "outputs": [
    {
     "name": "stdout",
     "output_type": "stream",
     "text": [
      "Sum of relevant probabilities: 0.0007\n",
      "Expected measurement outcome: M_11 = ↓↓ = 0.0007\n"
     ]
    }
   ],
   "source": [
    "print(\"Sum of relevant probabilities: $(round(dist[7]+dist[6]+dist[11]+dist[10],digits=10))\\n\")\n",
    "print(\"Expected measurement outcome: M_11 = ↓↓ = $(round(0.25*zs[4]'*superOperatorNoise*zs[1],digits=10))\\n\")"
   ]
  },
  {
   "cell_type": "markdown",
   "metadata": {},
   "source": [
    "## But what is the important thing to keep in mind?"
   ]
  },
  {
   "cell_type": "markdown",
   "metadata": {},
   "source": [
    "Well its that these probabilities (which are made up combinations of the Pauli error rates - transform directly to the appropriate eigenvalue entry). So if we set out the probabilities in a vector and then transform them: We get the entries in the eigenvalue vector.\n",
    "\n",
    "So the 'measured' proabilities in the computational basis are:\n",
    "\n",
    "$\\left(\\begin{array}{c}0.9367\\\\0.0133\\\\0.0493\\\\0.0007\\end{array}\\right)$\n",
    "\n",
    "We can use the WHT (natural) transform on this:$\\qquad \\left(\\begin{array}{*{11}c} 1 & 1 & 1 & 1 \\\\ 1 & -1 & 1 & -1 \\\\ 1 & 1 & -1 & -1 \\\\ 1 & -1 & -1 & 1 \\\\ \\end{array}\\right)$\n",
    "\n",
    "To get\n",
    "$\\qquad\\left(\\begin{array}{c}1.0\\\\0.972\\\\0.9\\\\ 0.8748\\end{array}\\right)$\n"
   ]
  },
  {
   "cell_type": "code",
   "execution_count": 12,
   "metadata": {},
   "outputs": [
    {
     "data": {
      "text/plain": [
       "4-element Array{Float64,1}:\n",
       " 1.0\n",
       " 0.972\n",
       " 0.9\n",
       " 0.8748"
      ]
     },
     "execution_count": 12,
     "metadata": {},
     "output_type": "execute_result"
    }
   ],
   "source": [
    "round.(Hadamard.hadamard(4)*[0.9367, 0.0133, 0.0493, 0.0007],digits=10)"
   ]
  },
  {
   "cell_type": "markdown",
   "metadata": {},
   "source": [
    "And those are exactly the entries (for II, IZ, ZI and ZZ)  in the diagonal of the super operator"
   ]
  },
  {
   "cell_type": "code",
   "execution_count": 13,
   "metadata": {},
   "outputs": [
    {
     "name": "stdout",
     "output_type": "stream",
     "text": [
      "1: II: 1.0\n",
      "2: IX: 0.978\n",
      "3: IY: 0.99\n",
      "4: IZ: 0.972\n",
      "5: XI: 0.93\n",
      "6: XX: 0.90954\n",
      "7: XY: 0.9207\n",
      "8: XZ: 0.90396\n",
      "9: YI: 0.95\n",
      "10: YX: 0.9291\n",
      "11: YY: 0.9405\n",
      "12: YZ: 0.9234\n",
      "13: ZI: 0.9\n",
      "14: ZX: 0.8802\n",
      "15: ZY: 0.891\n",
      "16: ZZ: 0.8748\n"
     ]
    }
   ],
   "source": [
    "# Print label and probability\n",
    "for i in 1:16\n",
    "    print(\"$i: $(fidelityLabels(i-1)): $(basicSuperOpDiagonal[i])\\n\")\n",
    "end"
   ]
  },
  {
   "cell_type": "markdown",
   "metadata": {},
   "source": [
    "## So this gives us the way we can reconstruct the Global probability distribution\n",
    "\n",
    "(which in turn tells us the chance of an X error or Y error or Z error on each qubit, which in turn lets us e.g. fine-tune our error correction decoders)\n",
    "\n",
    "We can measure each different set of stabiliser measurements until we have reconstructed the entire superoperator (in fact we don't need to do this much work, but that is for another time!)"
   ]
  },
  {
   "cell_type": "markdown",
   "metadata": {},
   "source": [
    "One final example:\n",
    "\n",
    "We should be able to see that II, ZX, YZ and XY are all mutually commuting - that means we can in fact measure them all at the same time. \n",
    "\n",
    "How would that work? Well we just have to find the correct basis. (As always), there are several ways of thinking of this. We can imagine that if we could prepare the following state:\n",
    "\n"
   ]
  },
  {
   "cell_type": "code",
   "execution_count": 14,
   "metadata": {},
   "outputs": [
    {
     "name": "stdout",
     "output_type": "stream",
     "text": [
      "01 II: 1\n",
      "02 IX: 0\n",
      "03 IY: 0\n",
      "04 IZ: 0\n",
      "05 XI: 0\n",
      "06 XX: 0\n",
      "07 XY: 1\n",
      "08 XZ: 0\n",
      "09 YI: 0\n",
      "10 YX: 0\n",
      "11 YY: 0\n",
      "12 YZ: 1\n",
      "13 ZI: 0\n",
      "14 ZX: 1\n",
      "15 ZY: 0\n",
      "16 ZZ: 0\n"
     ]
    }
   ],
   "source": [
    "req = [1,0,0,0,0,0,1,0,0,0,0,1,0,1,0,0]\n",
    "for i in 1:16\n",
    "    print(\"$(string(i,pad=2)) $(fidelityLabels(i-1)): $(req[i])\\n\")\n",
    "end"
   ]
  },
  {
   "cell_type": "markdown",
   "metadata": {},
   "source": [
    "Then that is going to pick up the relevant entries from the SuperOperator representation. If we then measure in the same basis we are going to get the correct probabilities, which we can transform back to get the eigenvalues.\n",
    "\n",
    "Of course because we are just manipulating matrices it all feels a bit 'circular'. In a device where we don't know the eigenvalues, what we have to do is actually run the circuits.\n",
    "\n",
    "So the circuit that transforms into various stabiliser groups look like this\n",
    "\n",
    "![circuits](./figures/circuits.png)\n",
    "\n",
    "Here we are interested in (a)."
   ]
  },
  {
   "cell_type": "markdown",
   "metadata": {},
   "source": [
    "**Note**\n",
    "\n",
    "Here I am going to use some code that is available at:\n",
    "[github - rharper2/Juqst.jl](https://github.com/rharper2/Juqst.jl)\n",
    "\n"
   ]
  },
  {
   "cell_type": "code",
   "execution_count": 15,
   "metadata": {},
   "outputs": [],
   "source": [
    "using Juqst\n",
    "# Set up the relevant gates\n",
    "cnot21 = [1 0;0 1]⊗[1 0;0 0]+ [0 1;1 0]⊗[0 0;0 1]\n",
    "superCnot21 = makeSuper(cnot21)\n",
    "superPI = makeSuper([1 0;0 im]⊗[1 0;0 1])\n",
    "superIP = makeSuper([1 0;0 1]⊗[1 0;0 im])\n",
    "superHH = makeSuper((1/sqrt(2)*[1 1;1 -1])⊗(1/sqrt(2)*[1 1;1 -1]));"
   ]
  },
  {
   "cell_type": "code",
   "execution_count": 16,
   "metadata": {},
   "outputs": [
    {
     "data": {
      "text/latex": [
       "\\begin{equation*} \\left(\\begin{array}{*{16}c} 1.0 & 0.0 & 0.0 & 0.0 & 0.0 & 0.0 & 0.0 & 0.0 & 0.0 & 0.0 & 0.0 & 0.0 & 0.0 & 0.0 & 0.0 & 0.0 \\\\ 0.0 & 0.0 & 0.0 & 0.0 & 0.0 & 0.0 & 0.0 & -1.0 & 0.0 & 0.0 & 0.0 & 0.0 & 0.0 & 0.0 & 0.0 & 0.0 \\\\ 0.0 & 0.0 & 0.0 & 0.0 & 0.0 & 0.0 & 1.0 & 0.0 & 0.0 & 0.0 & 0.0 & 0.0 & 0.0 & 0.0 & 0.0 & 0.0 \\\\ 0.0 & 1.0 & 0.0 & 0.0 & 0.0 & 0.0 & 0.0 & 0.0 & 0.0 & 0.0 & 0.0 & 0.0 & 0.0 & 0.0 & 0.0 & 0.0 \\\\ 0.0 & 0.0 & 0.0 & 0.0 & 0.0 & 0.0 & 0.0 & 0.0 & 0.0 & 1.0 & 0.0 & 0.0 & 0.0 & 0.0 & 0.0 & 0.0 \\\\ 0.0 & 0.0 & 0.0 & 0.0 & 0.0 & 0.0 & 0.0 & 0.0 & 0.0 & 0.0 & 0.0 & 0.0 & 0.0 & 0.0 & 1.0 & 0.0 \\\\ 0.0 & 0.0 & 0.0 & 0.0 & 0.0 & 0.0 & 0.0 & 0.0 & 0.0 & 0.0 & 0.0 & 0.0 & 0.0 & 0.0 & 0.0 & 1.0 \\\\ 0.0 & 0.0 & 0.0 & 0.0 & 0.0 & 0.0 & 0.0 & 0.0 & 1.0 & 0.0 & 0.0 & 0.0 & 0.0 & 0.0 & 0.0 & 0.0 \\\\ 0.0 & 0.0 & 0.0 & 0.0 & 0.0 & 0.0 & 0.0 & 0.0 & 0.0 & 0.0 & 0.0 & 0.0 & 0.0 & 1.0 & 0.0 & 0.0 \\\\ 0.0 & 0.0 & 0.0 & 0.0 & 0.0 & 0.0 & 0.0 & 0.0 & 0.0 & 0.0 & -1.0 & 0.0 & 0.0 & 0.0 & 0.0 & 0.0 \\\\ 0.0 & 0.0 & 0.0 & 0.0 & 0.0 & 0.0 & 0.0 & 0.0 & 0.0 & 0.0 & 0.0 & -1.0 & 0.0 & 0.0 & 0.0 & 0.0 \\\\ 0.0 & 0.0 & 0.0 & 0.0 & 0.0 & 0.0 & 0.0 & 0.0 & 0.0 & 0.0 & 0.0 & 0.0 & 1.0 & 0.0 & 0.0 & 0.0 \\\\ 0.0 & 0.0 & 0.0 & 0.0 & 1.0 & 0.0 & 0.0 & 0.0 & 0.0 & 0.0 & 0.0 & 0.0 & 0.0 & 0.0 & 0.0 & 0.0 \\\\ 0.0 & 0.0 & 0.0 & -1.0 & 0.0 & 0.0 & 0.0 & 0.0 & 0.0 & 0.0 & 0.0 & 0.0 & 0.0 & 0.0 & 0.0 & 0.0 \\\\ 0.0 & 0.0 & 1.0 & 0.0 & 0.0 & 0.0 & 0.0 & 0.0 & 0.0 & 0.0 & 0.0 & 0.0 & 0.0 & 0.0 & 0.0 & 0.0 \\\\ 0.0 & 0.0 & 0.0 & 0.0 & 0.0 & 1.0 & 0.0 & 0.0 & 0.0 & 0.0 & 0.0 & 0.0 & 0.0 & 0.0 & 0.0 & 0.0 \\\\ \\end{array}\\right)\\\\\\end{equation*}"
      ],
      "text/plain": [
       "16×16 Array{Float64,2}:\n",
       " 1.0  0.0  0.0   0.0  0.0  0.0  0.0  …  0.0   0.0   0.0  0.0  0.0  0.0  0.0\n",
       " 0.0  0.0  0.0   0.0  0.0  0.0  0.0     0.0   0.0   0.0  0.0  0.0  0.0  0.0\n",
       " 0.0  0.0  0.0   0.0  0.0  0.0  1.0     0.0   0.0   0.0  0.0  0.0  0.0  0.0\n",
       " 0.0  1.0  0.0   0.0  0.0  0.0  0.0     0.0   0.0   0.0  0.0  0.0  0.0  0.0\n",
       " 0.0  0.0  0.0   0.0  0.0  0.0  0.0     1.0   0.0   0.0  0.0  0.0  0.0  0.0\n",
       " 0.0  0.0  0.0   0.0  0.0  0.0  0.0  …  0.0   0.0   0.0  0.0  0.0  1.0  0.0\n",
       " 0.0  0.0  0.0   0.0  0.0  0.0  0.0     0.0   0.0   0.0  0.0  0.0  0.0  1.0\n",
       " 0.0  0.0  0.0   0.0  0.0  0.0  0.0     0.0   0.0   0.0  0.0  0.0  0.0  0.0\n",
       " 0.0  0.0  0.0   0.0  0.0  0.0  0.0     0.0   0.0   0.0  0.0  1.0  0.0  0.0\n",
       " 0.0  0.0  0.0   0.0  0.0  0.0  0.0     0.0  -1.0   0.0  0.0  0.0  0.0  0.0\n",
       " 0.0  0.0  0.0   0.0  0.0  0.0  0.0  …  0.0   0.0  -1.0  0.0  0.0  0.0  0.0\n",
       " 0.0  0.0  0.0   0.0  0.0  0.0  0.0     0.0   0.0   0.0  1.0  0.0  0.0  0.0\n",
       " 0.0  0.0  0.0   0.0  1.0  0.0  0.0     0.0   0.0   0.0  0.0  0.0  0.0  0.0\n",
       " 0.0  0.0  0.0  -1.0  0.0  0.0  0.0     0.0   0.0   0.0  0.0  0.0  0.0  0.0\n",
       " 0.0  0.0  1.0   0.0  0.0  0.0  0.0     0.0   0.0   0.0  0.0  0.0  0.0  0.0\n",
       " 0.0  0.0  0.0   0.0  0.0  1.0  0.0  …  0.0   0.0   0.0  0.0  0.0  0.0  0.0"
      ]
     },
     "execution_count": 16,
     "metadata": {},
     "output_type": "execute_result"
    }
   ],
   "source": [
    "# Circuit (a) is then just these gates applied (here circuit is from left to right, but matrices the other way!)\n",
    "\n",
    "circuit = superCnot21*superPI*superCnot21*superIP*superHH"
   ]
  },
  {
   "cell_type": "markdown",
   "metadata": {},
   "source": [
    "And we can apply this to the $|00\\rangle$ state, to generate the correct state:\n"
   ]
  },
  {
   "cell_type": "code",
   "execution_count": 17,
   "metadata": {},
   "outputs": [
    {
     "name": "stdout",
     "output_type": "stream",
     "text": [
      "01 II: 1.0\n",
      "02 IX: 0.0\n",
      "03 IY: 0.0\n",
      "04 IZ: 0.0\n",
      "05 XI: 0.0\n",
      "06 XX: 0.0\n",
      "07 XY: 1.0\n",
      "08 XZ: 0.0\n",
      "09 YI: 0.0\n",
      "10 YX: 0.0\n",
      "11 YY: 0.0\n",
      "12 YZ: 1.0\n",
      "13 ZI: 0.0\n",
      "14 ZX: -1.0\n",
      "15 ZY: 0.0\n",
      "16 ZZ: 0.0\n"
     ]
    }
   ],
   "source": [
    "newB = circuit*zs[1]\n",
    "for i in 1:16\n",
    "    print(\"$(string(i,pad=2)) $(fidelityLabels(i-1)): $(newB[i])\\n\")\n",
    "end"
   ]
  },
  {
   "cell_type": "markdown",
   "metadata": {},
   "source": [
    "And the reverse circuit takes it back into the computational basis.\n",
    "\n",
    "Here I was just going to be lazy and use the transpose of the superoperator gate that represents the circuit, but lets show they are the same. Reverse circuit - just apply inverse gates in reverse order one at a time (recall CNOT is self inverting, and three phases = phase$^\\dagger$"
   ]
  },
  {
   "cell_type": "code",
   "execution_count": 18,
   "metadata": {},
   "outputs": [
    {
     "data": {
      "text/latex": [
       "\\begin{equation*} \\left(\\begin{array}{*{16}c} 1.0 & 0.0 & 0.0 & 0.0 & 0.0 & 0.0 & 0.0 & 0.0 & 0.0 & 0.0 & 0.0 & 0.0 & 0.0 & 0.0 & 0.0 & 0.0 \\\\ 0.0 & 0.0 & 0.0 & 1.0 & 0.0 & 0.0 & 0.0 & 0.0 & 0.0 & 0.0 & 0.0 & 0.0 & 0.0 & 0.0 & 0.0 & 0.0 \\\\ 0.0 & 0.0 & 0.0 & 0.0 & 0.0 & 0.0 & 0.0 & 0.0 & 0.0 & 0.0 & 0.0 & 0.0 & 0.0 & 0.0 & 1.0 & 0.0 \\\\ 0.0 & 0.0 & 0.0 & 0.0 & 0.0 & 0.0 & 0.0 & 0.0 & 0.0 & 0.0 & 0.0 & 0.0 & 0.0 & -1.0 & 0.0 & 0.0 \\\\ 0.0 & 0.0 & 0.0 & 0.0 & 0.0 & 0.0 & 0.0 & 0.0 & 0.0 & 0.0 & 0.0 & 0.0 & 1.0 & 0.0 & 0.0 & 0.0 \\\\ 0.0 & 0.0 & 0.0 & 0.0 & 0.0 & 0.0 & 0.0 & 0.0 & 0.0 & 0.0 & 0.0 & 0.0 & 0.0 & 0.0 & 0.0 & 1.0 \\\\ 0.0 & 0.0 & 1.0 & 0.0 & 0.0 & 0.0 & 0.0 & 0.0 & 0.0 & 0.0 & 0.0 & 0.0 & 0.0 & 0.0 & 0.0 & 0.0 \\\\ 0.0 & -1.0 & 0.0 & 0.0 & 0.0 & 0.0 & 0.0 & 0.0 & 0.0 & 0.0 & 0.0 & 0.0 & 0.0 & 0.0 & 0.0 & 0.0 \\\\ 0.0 & 0.0 & 0.0 & 0.0 & 0.0 & 0.0 & 0.0 & 1.0 & 0.0 & 0.0 & 0.0 & 0.0 & 0.0 & 0.0 & 0.0 & 0.0 \\\\ 0.0 & 0.0 & 0.0 & 0.0 & 1.0 & 0.0 & 0.0 & 0.0 & 0.0 & 0.0 & 0.0 & 0.0 & 0.0 & 0.0 & 0.0 & 0.0 \\\\ 0.0 & 0.0 & 0.0 & 0.0 & 0.0 & 0.0 & 0.0 & 0.0 & 0.0 & -1.0 & 0.0 & 0.0 & 0.0 & 0.0 & 0.0 & 0.0 \\\\ 0.0 & 0.0 & 0.0 & 0.0 & 0.0 & 0.0 & 0.0 & 0.0 & 0.0 & 0.0 & -1.0 & 0.0 & 0.0 & 0.0 & 0.0 & 0.0 \\\\ 0.0 & 0.0 & 0.0 & 0.0 & 0.0 & 0.0 & 0.0 & 0.0 & 0.0 & 0.0 & 0.0 & 1.0 & 0.0 & 0.0 & 0.0 & 0.0 \\\\ 0.0 & 0.0 & 0.0 & 0.0 & 0.0 & 0.0 & 0.0 & 0.0 & 1.0 & 0.0 & 0.0 & 0.0 & 0.0 & 0.0 & 0.0 & 0.0 \\\\ 0.0 & 0.0 & 0.0 & 0.0 & 0.0 & 1.0 & 0.0 & 0.0 & 0.0 & 0.0 & 0.0 & 0.0 & 0.0 & 0.0 & 0.0 & 0.0 \\\\ 0.0 & 0.0 & 0.0 & 0.0 & 0.0 & 0.0 & 1.0 & 0.0 & 0.0 & 0.0 & 0.0 & 0.0 & 0.0 & 0.0 & 0.0 & 0.0 \\\\ \\end{array}\\right)\\\\\\end{equation*}"
      ],
      "text/plain": [
       "16×16 Array{Float64,2}:\n",
       " 1.0   0.0  0.0  0.0  0.0  0.0  0.0  0.0  …   0.0  0.0  0.0   0.0  0.0  0.0\n",
       " 0.0   0.0  0.0  1.0  0.0  0.0  0.0  0.0      0.0  0.0  0.0   0.0  0.0  0.0\n",
       " 0.0   0.0  0.0  0.0  0.0  0.0  0.0  0.0      0.0  0.0  0.0   0.0  1.0  0.0\n",
       " 0.0   0.0  0.0  0.0  0.0  0.0  0.0  0.0      0.0  0.0  0.0  -1.0  0.0  0.0\n",
       " 0.0   0.0  0.0  0.0  0.0  0.0  0.0  0.0      0.0  0.0  1.0   0.0  0.0  0.0\n",
       " 0.0   0.0  0.0  0.0  0.0  0.0  0.0  0.0  …   0.0  0.0  0.0   0.0  0.0  1.0\n",
       " 0.0   0.0  1.0  0.0  0.0  0.0  0.0  0.0      0.0  0.0  0.0   0.0  0.0  0.0\n",
       " 0.0  -1.0  0.0  0.0  0.0  0.0  0.0  0.0      0.0  0.0  0.0   0.0  0.0  0.0\n",
       " 0.0   0.0  0.0  0.0  0.0  0.0  0.0  1.0      0.0  0.0  0.0   0.0  0.0  0.0\n",
       " 0.0   0.0  0.0  0.0  1.0  0.0  0.0  0.0      0.0  0.0  0.0   0.0  0.0  0.0\n",
       " 0.0   0.0  0.0  0.0  0.0  0.0  0.0  0.0  …   0.0  0.0  0.0   0.0  0.0  0.0\n",
       " 0.0   0.0  0.0  0.0  0.0  0.0  0.0  0.0     -1.0  0.0  0.0   0.0  0.0  0.0\n",
       " 0.0   0.0  0.0  0.0  0.0  0.0  0.0  0.0      0.0  1.0  0.0   0.0  0.0  0.0\n",
       " 0.0   0.0  0.0  0.0  0.0  0.0  0.0  0.0      0.0  0.0  0.0   0.0  0.0  0.0\n",
       " 0.0   0.0  0.0  0.0  0.0  1.0  0.0  0.0      0.0  0.0  0.0   0.0  0.0  0.0\n",
       " 0.0   0.0  0.0  0.0  0.0  0.0  1.0  0.0  …   0.0  0.0  0.0   0.0  0.0  0.0"
      ]
     },
     "execution_count": 18,
     "metadata": {},
     "output_type": "execute_result"
    }
   ],
   "source": [
    "Rcircuit = superHH*superIP*superIP*superIP * superCnot21*superPI*superPI*superPI*superCnot21"
   ]
  },
  {
   "cell_type": "code",
   "execution_count": 19,
   "metadata": {},
   "outputs": [
    {
     "data": {
      "text/latex": [
       "\\begin{equation*} \\left(\\begin{array}{*{16}c} 1.0 & 0.0 & 0.0 & 0.0 & 0.0 & 0.0 & 0.0 & 0.0 & 0.0 & 0.0 & 0.0 & 0.0 & 0.0 & 0.0 & 0.0 & 0.0 \\\\ 0.0 & 1.0 & 0.0 & 0.0 & 0.0 & 0.0 & 0.0 & 0.0 & 0.0 & 0.0 & 0.0 & 0.0 & 0.0 & 0.0 & 0.0 & 0.0 \\\\ 0.0 & 0.0 & 1.0 & 0.0 & 0.0 & 0.0 & 0.0 & 0.0 & 0.0 & 0.0 & 0.0 & 0.0 & 0.0 & 0.0 & 0.0 & 0.0 \\\\ 0.0 & 0.0 & 0.0 & 1.0 & 0.0 & 0.0 & 0.0 & 0.0 & 0.0 & 0.0 & 0.0 & 0.0 & 0.0 & 0.0 & 0.0 & 0.0 \\\\ 0.0 & 0.0 & 0.0 & 0.0 & 1.0 & 0.0 & 0.0 & 0.0 & 0.0 & 0.0 & 0.0 & 0.0 & 0.0 & 0.0 & 0.0 & 0.0 \\\\ 0.0 & 0.0 & 0.0 & 0.0 & 0.0 & 1.0 & 0.0 & 0.0 & 0.0 & 0.0 & 0.0 & 0.0 & 0.0 & 0.0 & 0.0 & 0.0 \\\\ 0.0 & 0.0 & 0.0 & 0.0 & 0.0 & 0.0 & 1.0 & 0.0 & 0.0 & 0.0 & 0.0 & 0.0 & 0.0 & 0.0 & 0.0 & 0.0 \\\\ 0.0 & 0.0 & 0.0 & 0.0 & 0.0 & 0.0 & 0.0 & 1.0 & 0.0 & 0.0 & 0.0 & 0.0 & 0.0 & 0.0 & 0.0 & 0.0 \\\\ 0.0 & 0.0 & 0.0 & 0.0 & 0.0 & 0.0 & 0.0 & 0.0 & 1.0 & 0.0 & 0.0 & 0.0 & 0.0 & 0.0 & 0.0 & 0.0 \\\\ 0.0 & 0.0 & 0.0 & 0.0 & 0.0 & 0.0 & 0.0 & 0.0 & 0.0 & 1.0 & 0.0 & 0.0 & 0.0 & 0.0 & 0.0 & 0.0 \\\\ 0.0 & 0.0 & 0.0 & 0.0 & 0.0 & 0.0 & 0.0 & 0.0 & 0.0 & 0.0 & 1.0 & 0.0 & 0.0 & 0.0 & 0.0 & 0.0 \\\\ 0.0 & 0.0 & 0.0 & 0.0 & 0.0 & 0.0 & 0.0 & 0.0 & 0.0 & 0.0 & 0.0 & 1.0 & 0.0 & 0.0 & 0.0 & 0.0 \\\\ 0.0 & 0.0 & 0.0 & 0.0 & 0.0 & 0.0 & 0.0 & 0.0 & 0.0 & 0.0 & 0.0 & 0.0 & 1.0 & 0.0 & 0.0 & 0.0 \\\\ 0.0 & 0.0 & 0.0 & 0.0 & 0.0 & 0.0 & 0.0 & 0.0 & 0.0 & 0.0 & 0.0 & 0.0 & 0.0 & 1.0 & 0.0 & 0.0 \\\\ 0.0 & 0.0 & 0.0 & 0.0 & 0.0 & 0.0 & 0.0 & 0.0 & 0.0 & 0.0 & 0.0 & 0.0 & 0.0 & 0.0 & 1.0 & 0.0 \\\\ 0.0 & 0.0 & 0.0 & 0.0 & 0.0 & 0.0 & 0.0 & 0.0 & 0.0 & 0.0 & 0.0 & 0.0 & 0.0 & 0.0 & 0.0 & 1.0 \\\\ \\end{array}\\right)\\\\\\end{equation*}"
      ],
      "text/plain": [
       "16×16 Array{Float64,2}:\n",
       " 1.0  0.0  0.0  0.0  0.0  0.0  0.0  0.0  …  0.0  0.0  0.0  0.0  0.0  0.0  0.0\n",
       " 0.0  1.0  0.0  0.0  0.0  0.0  0.0  0.0     0.0  0.0  0.0  0.0  0.0  0.0  0.0\n",
       " 0.0  0.0  1.0  0.0  0.0  0.0  0.0  0.0     0.0  0.0  0.0  0.0  0.0  0.0  0.0\n",
       " 0.0  0.0  0.0  1.0  0.0  0.0  0.0  0.0     0.0  0.0  0.0  0.0  0.0  0.0  0.0\n",
       " 0.0  0.0  0.0  0.0  1.0  0.0  0.0  0.0     0.0  0.0  0.0  0.0  0.0  0.0  0.0\n",
       " 0.0  0.0  0.0  0.0  0.0  1.0  0.0  0.0  …  0.0  0.0  0.0  0.0  0.0  0.0  0.0\n",
       " 0.0  0.0  0.0  0.0  0.0  0.0  1.0  0.0     0.0  0.0  0.0  0.0  0.0  0.0  0.0\n",
       " 0.0  0.0  0.0  0.0  0.0  0.0  0.0  1.0     0.0  0.0  0.0  0.0  0.0  0.0  0.0\n",
       " 0.0  0.0  0.0  0.0  0.0  0.0  0.0  0.0     0.0  0.0  0.0  0.0  0.0  0.0  0.0\n",
       " 0.0  0.0  0.0  0.0  0.0  0.0  0.0  0.0     1.0  0.0  0.0  0.0  0.0  0.0  0.0\n",
       " 0.0  0.0  0.0  0.0  0.0  0.0  0.0  0.0  …  0.0  1.0  0.0  0.0  0.0  0.0  0.0\n",
       " 0.0  0.0  0.0  0.0  0.0  0.0  0.0  0.0     0.0  0.0  1.0  0.0  0.0  0.0  0.0\n",
       " 0.0  0.0  0.0  0.0  0.0  0.0  0.0  0.0     0.0  0.0  0.0  1.0  0.0  0.0  0.0\n",
       " 0.0  0.0  0.0  0.0  0.0  0.0  0.0  0.0     0.0  0.0  0.0  0.0  1.0  0.0  0.0\n",
       " 0.0  0.0  0.0  0.0  0.0  0.0  0.0  0.0     0.0  0.0  0.0  0.0  0.0  1.0  0.0\n",
       " 0.0  0.0  0.0  0.0  0.0  0.0  0.0  0.0  …  0.0  0.0  0.0  0.0  0.0  0.0  1.0"
      ]
     },
     "execution_count": 19,
     "metadata": {},
     "output_type": "execute_result"
    }
   ],
   "source": [
    "Rcircuit *circuit "
   ]
  },
  {
   "cell_type": "code",
   "execution_count": 20,
   "metadata": {},
   "outputs": [
    {
     "data": {
      "text/plain": [
       "true"
      ]
     },
     "execution_count": 20,
     "metadata": {},
     "output_type": "execute_result"
    }
   ],
   "source": [
    "# And just a little sanity check, that the transpose of superoperator is indeed its inverse\n",
    "Rcircuit == transpose(circuit)"
   ]
  },
  {
   "cell_type": "markdown",
   "metadata": {},
   "source": [
    "### We can work out what stats we would get if we ran this experiment\n",
    "\n",
    "(this is what we would see in an actual device -- assuming the only noise is our superOperatorNoise)"
   ]
  },
  {
   "cell_type": "code",
   "execution_count": 21,
   "metadata": {},
   "outputs": [
    {
     "name": "stdout",
     "output_type": "stream",
     "text": [
      "M_00 = ↑↑ = 0.931075\n",
      "M_01 = ↑↓ = 0.030625\n",
      "M_10 = ↓↑ = 0.009025\n",
      "M_11 = ↓↓ = 0.029275\n",
      "total probability = 1.0\n"
     ]
    }
   ],
   "source": [
    "# The measurement outcomes are then:\n",
    "print(\"M_00 = ↑↑ = $(round(0.25*zs[1]'*Rcircuit*superOperatorNoise*circuit*zs[1],digits=10))\\n\")\n",
    "print(\"M_01 = ↑↓ = $(round(0.25*zs[2]'*Rcircuit*superOperatorNoise*circuit*zs[1],digits=10))\\n\")\n",
    "print(\"M_10 = ↓↑ = $(round(0.25*zs[3]'*Rcircuit*superOperatorNoise*circuit*zs[1],digits=10))\\n\")\n",
    "print(\"M_11 = ↓↓ = $(round(0.25*zs[4]'*Rcircuit*superOperatorNoise*circuit*zs[1],digits=10))\\n\")\n",
    "outcomes = 0.25.*[x'*Rcircuit*superOperatorNoise*circuit*zs[1] for x in zs]\n",
    "print(\"total probability = $(sum(outcomes))\\n\")"
   ]
  },
  {
   "cell_type": "markdown",
   "metadata": {},
   "source": [
    "## Then we transform back to the eigenvalues:\n"
   ]
  },
  {
   "cell_type": "code",
   "execution_count": 22,
   "metadata": {},
   "outputs": [
    {
     "data": {
      "text/plain": [
       "4-element Array{Float64,1}:\n",
       " 1.0\n",
       " 0.8802\n",
       " 0.9234\n",
       " 0.9207"
      ]
     },
     "execution_count": 22,
     "metadata": {},
     "output_type": "execute_result"
    }
   ],
   "source": [
    "round.(Hadamard.hadamard(4)*outcomes,digits=10)"
   ]
  },
  {
   "cell_type": "code",
   "execution_count": 23,
   "metadata": {},
   "outputs": [
    {
     "name": "stdout",
     "output_type": "stream",
     "text": [
      "1: II: 1.0\n",
      "2: IX: 0.978\n",
      "3: IY: 0.99\n",
      "4: IZ: 0.972\n",
      "5: XI: 0.93\n",
      "6: XX: 0.90954\n",
      "7: XY: 0.9207\n",
      "8: XZ: 0.90396\n",
      "9: YI: 0.95\n",
      "10: YX: 0.9291\n",
      "11: YY: 0.9405\n",
      "12: YZ: 0.9234\n",
      "13: ZI: 0.9\n",
      "14: ZX: 0.8802\n",
      "15: ZY: 0.891\n",
      "16: ZZ: 0.8748\n"
     ]
    }
   ],
   "source": [
    "# Recall the eigenvalues:\n",
    "# Print label and probability\n",
    "for i in 1:16\n",
    "    print(\"$i: $(fidelityLabels(i-1)): $(basicSuperOpDiagonal[i])\\n\")\n",
    "end"
   ]
  },
  {
   "cell_type": "markdown",
   "metadata": {},
   "source": [
    "And we can see we have correctly 'reconstructed' \n",
    "\n",
    "- ZX\n",
    "- YZ\n",
    "- XY\n",
    "\n",
    "As predicted."
   ]
  },
  {
   "cell_type": "markdown",
   "metadata": {},
   "source": [
    "We can change the circuits and reconstruct all of the eigenvalues, then we can generate the 'global' probability distribution. There are however otherways of doing this if we can assume e..g the distribution is sparse."
   ]
  },
  {
   "cell_type": "code",
   "execution_count": null,
   "metadata": {},
   "outputs": [],
   "source": []
  }
 ],
 "metadata": {
  "@webio": {
   "lastCommId": null,
   "lastKernelId": null
  },
  "kernelspec": {
   "display_name": "Julia 1.4.1",
   "language": "julia",
   "name": "julia-1.4"
  },
  "language_info": {
   "file_extension": ".jl",
   "mimetype": "application/julia",
   "name": "julia",
   "version": "1.4.2"
  }
 },
 "nbformat": 4,
 "nbformat_minor": 2
}
