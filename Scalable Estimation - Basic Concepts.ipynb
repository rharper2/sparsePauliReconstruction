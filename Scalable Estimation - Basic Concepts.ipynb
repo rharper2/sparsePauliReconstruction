{
 "cells": [
  {
   "cell_type": "markdown",
   "metadata": {},
   "source": [
    "# Introduction"
   ]
  },
  {
   "cell_type": "markdown",
   "metadata": {},
   "source": [
    "This workbook is an introduction to the basic concepts and designs relating to the paper \n",
    "\n",
    "**Fast estimation of sparse quantum noise** by *Harper, Yu and Flammia*\n",
    "\n",
    "This workbook is going to go through the basic ideas behind the algorithm for a trivial 2 qubit system. We will focus on the type of transforms, how the buckets work and how the peeling is accomplished, at a very basic level.\n",
    "\n",
    "The other workbook released with the code will show how the algorithm performs in practice with data derived from an IBM Quantum Experience 14 qubit machine.\n",
    "\n",
    "This is, however, the place to start.\n",
    "\n",
    "Copyright: Robin Harper, 2020\n"
   ]
  },
  {
   "cell_type": "markdown",
   "metadata": {},
   "source": [
    "# Software needed "
   ]
  },
  {
   "cell_type": "markdown",
   "metadata": {},
   "source": [
    "For this introductory notebook, we need minimal software. All these packages should be available through the Julia package manager.\n",
    "\n",
    "If you get an error trying to \"use\" them the error message tells you how to load them."
   ]
  },
  {
   "cell_type": "code",
   "execution_count": 1,
   "metadata": {},
   "outputs": [
    {
     "data": {
      "text/plain": [
       "#3 (generic function with 1 method)"
      ]
     },
     "execution_count": 1,
     "metadata": {},
     "output_type": "execute_result"
    }
   ],
   "source": [
    "using Hadamard\n",
    "\n",
    "# convenience (type /otimes<tab>) - <tab> is the \"tab\" key.\n",
    "⊗ = kron\n",
    "# type /oplus<tab>\n",
    "⊕ = (x,y)->mod.(x+y,2)\n",
    "\n"
   ]
  },
  {
   "cell_type": "code",
   "execution_count": 2,
   "metadata": {},
   "outputs": [
    {
     "data": {
      "text/plain": [
       "Main.PEEL"
      ]
     },
     "execution_count": 2,
     "metadata": {},
     "output_type": "execute_result"
    }
   ],
   "source": [
    "include(\"peel.jl\")"
   ]
  },
  {
   "cell_type": "code",
   "execution_count": 3,
   "metadata": {},
   "outputs": [],
   "source": [
    "using Main.PEEL"
   ]
  },
  {
   "cell_type": "markdown",
   "metadata": {},
   "source": [
    "# Some preliminary information"
   ]
  },
  {
   "cell_type": "markdown",
   "metadata": {},
   "source": [
    "\n",
    "\n",
    "## Conventions\n",
    "\n",
    "### What's in a name?\n",
    "\n",
    "There are a number of conventions as to where which qubit should be. Here we are going to adopt a least significant digit approach - which is different from the normal 'ket' approach.\n",
    "\n",
    "So for example: IZ means and I 'Pauli' on qubit = 2 and a Z 'Pauli' on qubit = 1 (indexing off 1).\n",
    "\n",
    "### Arrays indexed starting with 1.\n",
    "\n",
    "For those less familiar with Julia, unlike - say - python all arrays and vectors are indexed off 1. Without going into the merits or otherwise of this, we just need to keep it in mind. With our bitstring the bitstring 0000 represents the two qubits II, it has value 0, but it will index the first value in our vector i.e. 1. \n",
    "\n",
    "\n",
    "### Representing Paulis with bitstrings.\n",
    "\n",
    "There are many ways to represent Paulis with bit strings, including for instance the convention used in **Improved Simulation of Stabilizer Circuits**, *Scott Aaronson and Daniel Gottesman*, [arXiv:quant-ph/0406196v5](https://arxiv.org/abs/quant-ph/0406196v5).\n",
    "\n",
    "Here we are going to use one that allows us to naturally translate the Pauli to its position in our vector of Pauli eigenvalues (of course this is arbitrary, we could map them however we like).\n",
    "\n",
    "The mapping I am going to use is this (together with the least significant convention):\n",
    "\n",
    "---\n",
    "\n",
    "- I $\\rightarrow$ 00\n",
    "- X $\\rightarrow$ 01\n",
    "- Y $\\rightarrow$ 10\n",
    "- Z $\\rightarrow$ 11\n",
    "\n",
    "\n",
    "---\n",
    "\n",
    "\n",
    "This then naturally translates as below:\n",
    "\n",
    "### SuperOperator  - Pauli basis\n",
    "\n",
    "We have defined our SuperOperator basis to be as below, which means with the julia vector starting at 1 we have : \n",
    "\n",
    "<table class=\"tg\" style=\"font-size:large\">\n",
    "  <tr >\n",
    "    <th style=\"text-align:center\">Pauli</th>\n",
    "    <th style=\"text-align:center\">Vector Index</th>\n",
    "    <th style=\"width:100px;text-align:center\">---</th>\n",
    "    <th style=\"text-align:center\">Binary</th>\n",
    "    <th style=\"text-align:center\">Integer</th>\n",
    "  </tr>\n",
    "  <tr >\n",
    "    <td style=\"text-align:center\">II</td>\n",
    "    <td style=\"text-align:center\">1</td>\n",
    "    <td style=\"width:100px;text-align:center\">→</td>\n",
    "    <td style=\"text-align:center\">0000</td>\n",
    "    <td style=\"text-align:center\">0</td>\n",
    "  </tr>\n",
    "  <tr>\n",
    "    <td style=\"text-align:center\">IX</td>\n",
    "    <td style=\"text-align:center\">2</td>\n",
    "    <td style=\"width:100px;text-align:center\">→</td>\n",
    "    <td style=\"text-align:center\">0001</td>\n",
    "    <td style=\"text-align:center\">1</td>\n",
    "  </tr>\n",
    "  <tr>\n",
    "    <td style=\"text-align:center\">IY</td>\n",
    "    <td style=\"text-align:center\">3</td>\n",
    "    <td style=\"width:100px;text-align:center\">→</td>\n",
    "    <td style=\"text-align:center\">0010</td>\n",
    "    <td style=\"text-align:center\">2</td>\n",
    "  </tr>\n",
    "      <tr>\n",
    "    <td style=\"text-align:center\">IZ</td>\n",
    "    <td style=\"text-align:center\">4</td>\n",
    "    <td style=\"width:100px;text-align:center\">→</td>\n",
    "    <td style=\"text-align:center\">0011</td>\n",
    "    <td style=\"text-align:center\">3</td>\n",
    "  </tr>\n",
    "  <tr>\n",
    "    <td style=\"text-align:center\">XI</td>\n",
    "    <td style=\"text-align:center\">5</td>\n",
    "    <td style=\"width:100px;text-align:center\">→</td>\n",
    "    <td style=\"text-align:center\">0100</td>\n",
    "    <td style=\"text-align:center\">4</td>\n",
    "  </tr>\n",
    "  <tr>\n",
    "    <td style=\"text-align:center\">XX</td>\n",
    "    <td style=\"text-align:center\">6</td>\n",
    "    <td style=\"width:100px;text-align:center\">→</td>\n",
    "    <td style=\"text-align:center\">0101</td>\n",
    "    <td style=\"text-align:center\">5</td>\n",
    "  </tr>\n",
    "  <tr>\n",
    "    <td style=\"text-align:center\">XY</td>\n",
    "    <td style=\"text-align:center\">7</td>\n",
    "    <td style=\"width:100px;text-align:center\">→</td>\n",
    "    <td style=\"text-align:center\">0110</td>\n",
    "    <td style=\"text-align:center\">6</td>\n",
    "  </tr>\n",
    "  <tr>\n",
    "    <td style=\"text-align:center\">XZ</td>\n",
    "    <td style=\"text-align:center\">8</td>\n",
    "    <td style=\"width:100px;text-align:center\">→</td>\n",
    "    <td style=\"text-align:center\">0111</td>\n",
    "    <td style=\"text-align:center\">7</td>\n",
    "  </tr>\n",
    "  <tr>\n",
    "    <td style=\"text-align:center\">YI</td>\n",
    "    <td style=\"text-align:center\">9</td>\n",
    "    <td style=\"width:100px;text-align:center\">→</td>\n",
    "    <td style=\"text-align:center\">1000</td>\n",
    "    <td style=\"text-align:center\">8</td>\n",
    "  </tr>\n",
    "  <tr>\n",
    "    <td style=\"text-align:center\">YX</td>\n",
    "    <td style=\"text-align:center\">10</td>\n",
    "    <td style=\"width:100px;text-align:center\">→</td>\n",
    "    <td style=\"text-align:center\">1001</td>\n",
    "    <td style=\"text-align:center\">9</td>\n",
    "  </tr>\n",
    "  <tr>\n",
    "    <td style=\"text-align:center\">YY</td>\n",
    "    <td style=\"text-align:center\">11</td>\n",
    "    <td style=\"width:100px;text-align:center\">→</td>\n",
    "    <td style=\"text-align:center\">1010</td>\n",
    "    <td style=\"text-align:center\">10</td>\n",
    "  </tr>\n",
    "  <tr>\n",
    "    <td style=\"text-align:center\">YZ</td>\n",
    "    <td style=\"text-align:center\">12</td>\n",
    "    <td style=\"width:100px;text-align:center\">→</td>\n",
    "    <td style=\"text-align:center\">1011</td>\n",
    "    <td style=\"text-align:center\">11</td>\n",
    "  </tr>\n",
    "  <tr>\n",
    "    <td style=\"text-align:center\">ZI</td>\n",
    "    <td style=\"text-align:center\">13</td>\n",
    "    <td style=\"width:100px;text-align:center\">→</td>\n",
    "    <td style=\"text-align:center\">1100</td>\n",
    "    <td style=\"text-align:center\">12</td>\n",
    "  </tr>\n",
    "  <tr>\n",
    "    <td style=\"text-align:center\">ZX</td>\n",
    "    <td style=\"text-align:center\">14</td>\n",
    "    <td style=\"width:100px;text-align:center\">→</td>\n",
    "    <td style=\"text-align:center\">1101</td>\n",
    "    <td style=\"text-align:center\">13</td>\n",
    "  </tr>\n",
    "  <tr>\n",
    "    <td style=\"text-align:center\">ZY</td>\n",
    "    <td style=\"text-align:center\">15</td>\n",
    "    <td style=\"width:100px;text-align:center\">→</td>\n",
    "    <td style=\"text-align:center\">1110</td>\n",
    "    <td style=\"text-align:center\">14</td>\n",
    "  </tr>\n",
    "      <tr>\n",
    "    <td style=\"text-align:center\">ZZ</td>\n",
    "    <td style=\"text-align:center\">16</td>\n",
    "    <td style=\"width:100px;text-align:center\">→</td>\n",
    "    <td style=\"text-align:center\">1111</td>\n",
    "    <td style=\"text-align:center\">15</td>\n",
    "  </tr>\n",
    "\n",
    "\n",
    "</table>\n",
    "\n",
    "I have set this out in painful detail, because its important to understand the mapping for the rest to make sense.\n",
    "\n",
    "So for instance in our EIGENVALUE vector (think superoperator diagonal), the PAUL YX has binary representation Y=10 X=01, therefore 1001, has \"binary-value\" 9 and is the 10th (9+1) entry in our eigenvalue vector.\n",
    "\n",
    "## What's in a Walsh Hadamard Transform?\n",
    "\n",
    "The standard Walsh-Hadmard transform is based off tensor (Kronecker) products of the following matrix:\n",
    "\n",
    "$$\\left(\\begin{array}{cc}1 & 1\\\\1 & -1\\end{array}\\right)^{\\otimes n}$$\n",
    "\n",
    "### WHT_natural\n",
    "\n",
    "So for one qubit it would be:\n",
    "\n",
    "$\\begin{array}{cc}\n",
    "& \\begin{array}{cccc} \\quad 00 &  \\quad 01 & \\quad 10  &\\quad 11 \\end{array}\\\\\n",
    "\\begin{array}{c} 00\\\\ 01\\\\ 10\\\\11\\end{array} &\n",
    "  \\left(\\begin{array}{cccc}\n",
    "   \\quad 1&\\quad 1& \\quad 1 &\\quad 1\\\\\n",
    "   \\quad 1 &\\quad -1 & \\quad 1 &\\quad -1\\\\   \\quad 1&\\quad 1 & \\quad -1 &\\quad -1\\\\   \\quad 1 &\\quad -1 & \\quad -1 &\\quad 1\\\\\\end{array}\\right)\n",
    "\\end{array}$\n",
    "\n",
    "where I have included above (and to the left) of the transform matrix the binary representations of the position and the matrix can also be calculated as $(-1)^{\\langle i,j\\rangle}$ where the inner product here is the binary inner product $i,j\\in\\mathbb{F}_2^n$ as $\\langle i,j\\rangle=\\sum^{n-1}_{t=0}i[t]j[t]$ with arithmetic over $\\mathbb{F}_2$ \n",
    "\n",
    "### WHT_Pauli\n",
    "\n",
    "In the paper we use a different form of the Walsh-Hadamard transform. In this case we use the inner product of the Paulis, not the 'binary bitstring' inner product. The matrix is subtly different some rows or, if you prefer, columns are swapped:\n",
    "\n",
    "$\\begin{array}{cc}\n",
    "& \\begin{array}{cccc} I(00) &  X(01) & Y(10)  & Z(11) \\end{array}\\\\\n",
    "\\begin{array}{c} I(00)\\\\ X(01)\\\\ Y(10)\\\\Z(11)\\end{array} &\n",
    "  \\left(\\begin{array}{cccc}\n",
    "   \\quad 1&\\quad 1& \\quad 1 &\\quad 1\\\\\n",
    "   \\quad 1 &\\quad 1 & \\quad -1 &\\quad -1\\\\   \\quad 1&\\quad -1 & \\quad 1 &\\quad -1\\\\   \\quad 1 &\\quad -1 & \\quad -1 &\\quad 1\\\\\\end{array}\\right)\n",
    "\\end{array}$\n",
    "\n",
    "\n",
    "### Which one to use\n",
    "\n",
    "When transforming Pauli eigenvalue to the probability of a particular error occuring, there are distinct advantages in using the WHT_Pauli transform. The order of the Pauli errors and the order of the Pauli eigenvalues remains the same. However, most common packages (including the one we are going to use here in Julia) don't support this type of transform, rather they implement the WHT_natural transform. The WHT_natural transform also makes the peeling algorithm slightly less fiddly. **However** it does mean we need to be very careful about the order of things. If we use the WHT_natural transform then the following relationship holds - *note the indices (labels) of the Paulis in the probability vector*:\n",
    "\n",
    "\n",
    "![Example of Index change](./figures/HadamardNa.jpg)\n",
    "\n",
    "So the natural translation (labelling of Paulis) then becomes as follows:\n",
    "\n",
    "### Eigenvalue vector space ###\n",
    "\n",
    "\n",
    "- I $\\rightarrow$ 00\n",
    "- X $\\rightarrow$ 01\n",
    "- Y $\\rightarrow$ 10\n",
    "- Z $\\rightarrow$ 11\n",
    "\n",
    "### Probability vector space ###\n",
    "\n",
    "\n",
    "- I $\\rightarrow$ 00\n",
    "- X $\\rightarrow$ 10\n",
    "- Y $\\rightarrow$ 01\n",
    "- Z $\\rightarrow$ 11\n",
    "\n",
    "---\n",
    "\n",
    "The numbers here are the numbers we are going to use to demonstrate the concepts behind the peeling decoder.\n"
   ]
  },
  {
   "cell_type": "markdown",
   "metadata": {},
   "source": [
    "# Set up some Pauli Errors to find"
   ]
  },
  {
   "cell_type": "code",
   "execution_count": 4,
   "metadata": {},
   "outputs": [
    {
     "data": {
      "text/plain": [
       "16-element Array{Float64,1}:\n",
       " 1.0\n",
       " 0.9\n",
       " 0.94\n",
       " 0.84\n",
       " 0.86\n",
       " 0.96\n",
       " 0.88\n",
       " 0.98\n",
       " 0.9\n",
       " 1.0\n",
       " 0.84\n",
       " 0.94\n",
       " 0.96\n",
       " 0.86\n",
       " 0.98\n",
       " 0.88"
      ]
     },
     "execution_count": 4,
     "metadata": {},
     "output_type": "execute_result"
    }
   ],
   "source": [
    "# TO demonstrate the peeling decoder we are going to set up a sparse (fake) distribution.\n",
    "# This is going to mirror the example shown above - \n",
    "# NOTE Julia indexing starts at 1, so we add 1 to the integers in the above table\n",
    "\n",
    "dist = zeros(16) \n",
    "dist[3]=0.01\n",
    "dist[7]=0.02\n",
    "dist[14]=0.05\n",
    "dist[1]=1-sum(dist)\n",
    "BasicOracle = round.(ifwht_natural(dist),digits=10)"
   ]
  },
  {
   "cell_type": "markdown",
   "metadata": {},
   "source": [
    "## One more basic point re WHT_natural\n",
    "\n",
    "The way we do the Hadamard is not quite symmetric \n",
    "\n",
    "To go from probabilities to eigenvalues - we do no normalisation. (ifwht_natural)\n",
    "From eigenvalues to probabilities we need to divide by the $4^n$ (fwht_natural).\n",
    "\n",
    "It is easy to see why if you think of a noiseless channel. The eigenvalues will all be 1, but when added up give a 1 in the 'no error' II position. So we need to divide their sum by $4^n$."
   ]
  },
  {
   "cell_type": "code",
   "execution_count": 5,
   "metadata": {},
   "outputs": [
    {
     "data": {
      "text/plain": [
       "16-element Array{Float64,1}:\n",
       " 0.92\n",
       " 0.0\n",
       " 0.01\n",
       " 0.0\n",
       " 0.0\n",
       " 0.0\n",
       " 0.02\n",
       " 0.0\n",
       " 0.0\n",
       " 0.0\n",
       " 0.0\n",
       " 0.0\n",
       " 0.0\n",
       " 0.05\n",
       " 0.0\n",
       " 0.0"
      ]
     },
     "execution_count": 5,
     "metadata": {},
     "output_type": "execute_result"
    }
   ],
   "source": [
    "round.(fwht_natural(BasicOracle),digits=10)"
   ]
  },
  {
   "cell_type": "markdown",
   "metadata": {},
   "source": [
    "## So the game is afoot!\n",
    "\n",
    "Remember the point here is that the eigenvalues are dense, the pauli error rates are sparse. However, we can't sample the Pauli error rates in a SPAM (state preperation and measurement) error free way. We CAN however sample the eigenvalues in a SPAM free way. We wan't to sparsely sample the dense eigenvalues in order to reconstruct the sparse error probabilities.\n",
    "\n",
    "This shows how to do this.\n",
    "\n",
    "## Disclaimer\n",
    "\n",
    "As we go through the basic concepts in this book - we assume everything is perfect - no noise. We however introduce noise and show how robust the algorithm is to noise in the main workbook. Also the paper proves it all!"
   ]
  },
  {
   "cell_type": "markdown",
   "metadata": {},
   "source": [
    "# Choose our sub-sampling matrices"
   ]
  },
  {
   "cell_type": "markdown",
   "metadata": {},
   "source": [
    "One of the main ideas behind the papers is that we can use the protocols in [Efficient learning of quantum channels](https://arxiv.org/abs/1907.12976) and [Efficient learning of quantum noise](https://arxiv.org/abs/1907.13022) to learn the eigenvalues of an entire stabiliser group ($2^n$) entries at once to arbitrary precision. Whilst it might be quite difficult to learn the eigenvalues of an arbitrary group as this will require an arbitrary $n-$qubit Clifford gate (which can be a lot of primitive gates!) even today's noisy devices can quite easily create a 2-local Stabiliser group over $n-$ qubits. Because this is only a two qubit example we are going to use one group chosen from the set designated in the paper. We can't offset this so the second subsampling group will just be from one of the single qubit sets. In the paper the Singles and the 'doubles' are defined as follows:"
   ]
  },
  {
   "cell_type": "code",
   "execution_count": 6,
   "metadata": {},
   "outputs": [
    {
     "data": {
      "text/plain": [
       "2-element Array{Array{Array{Int64,1},1},1}:\n",
       " [[0, 0, 0, 0], [0, 1, 1, 0], [1, 1, 0, 1], [1, 0, 1, 1]]\n",
       " [[0, 0, 0, 0], [0, 1, 1, 1], [1, 0, 0, 1], [1, 1, 1, 0]]"
      ]
     },
     "execution_count": 6,
     "metadata": {},
     "output_type": "execute_result"
    }
   ],
   "source": [
    "potentialSingles = [\n",
    "                    [[0,0],[0,1]], # IX\n",
    "                    [[0,0],[1,0]], # IY\n",
    "                    [[0,0],[1,1]], # IZ\n",
    "                    ]\n",
    "\n",
    "potentialMuBs = [[[0,0,0,0],[0,1,1,0],[1,1,0,1],[1,0,1,1]], #XY ZX YZ\n",
    "                 [[0,0,0,0],[0,1,1,1],[1,0,0,1],[1,1,1,0]]] #XZ YX ZY\n"
   ]
  },
  {
   "cell_type": "code",
   "execution_count": 7,
   "metadata": {},
   "outputs": [
    {
     "name": "stdout",
     "output_type": "stream",
     "text": [
      "[[0, 0, 0, 0], [1, 0, 0, 0], [0, 1, 0, 0], [0, 0, 1, 0], [0, 0, 0, 1]]"
     ]
    }
   ],
   "source": [
    "paulisAll=[]\n",
    "mappings=[]\n",
    "\n",
    "# For this example I am just going to choose the second type of MUB.\n",
    "# Which is why rand(2:2) \n",
    "# The first MUB works too well on this toy example!\n",
    "# For two qubits we need one \"potentialMuB\"\n",
    "\n",
    "for i = 1:1\n",
    "     push!(mappings,Dict())\n",
    "     choose = rand(2:2,1)\n",
    "     push!(paulisAll,vcat([potentialMuBs[x] for x in choose]))\n",
    "end\n",
    "\n",
    "\n",
    "# For the single qubit MUB we need , I am just going to choose the IX one.\n",
    "# Create a single version\n",
    "for i = 1:1\n",
    "         push!(mappings,Dict())\n",
    "         chooseS = rand(1:1,2)\n",
    "         push!(paulisAll,vcat([potentialSingles[chooseS[1]]],[potentialSingles[chooseS[2]]]))\n",
    "end\n",
    "\n",
    "\n",
    "# Create the 'bit' offsets\n",
    "# This is used to work out the Pauli we isolate in a single bin. Here we have 2*(n=2), 4 bits per Pauli\n",
    "ds = vcat(\n",
    "    [[0 for _ = 1:4]],\n",
    "    [map(x->parse(Int,x),collect(reverse(string(i,base=2,pad=4)))) for i in [2^b for b=0:3]]);\n",
    "# e.g.\n",
    "print(ds)\n"
   ]
  },
  {
   "cell_type": "code",
   "execution_count": 8,
   "metadata": {},
   "outputs": [
    {
     "data": {
      "text/plain": [
       "2-element Array{Any,1}:\n",
       " [[[0, 0, 0, 0], [0, 1, 1, 1], [1, 0, 0, 1], [1, 1, 1, 0]]]\n",
       " [[[0, 0], [0, 1]], [[0, 0], [0, 1]]]"
      ]
     },
     "execution_count": 8,
     "metadata": {},
     "output_type": "execute_result"
    }
   ],
   "source": [
    "paulisAll"
   ]
  },
  {
   "cell_type": "markdown",
   "metadata": {},
   "source": [
    "### So what is paulisAll showing us?\n",
    "\n",
    "Basically the first entry is a list containing lists of a stabiliser group. Here it is \n",
    "\n",
    "```\n",
    "[ [ [II],[XZ],[YX],[ZY] ] ]\n",
    "```\n",
    "\n",
    "which you will see all commute. If we had four qubits,then it would look like this $-$ with the first list being two qubits, the second list being a different two qubits:\n",
    "\n",
    "```\n",
    "[ [ [II],[XZ],[YX],[ZY] ], [ [II],[XZ],[YX],[ZY] ] ]\n",
    "```\n",
    "\n",
    "or if we had enabled random choosing of the MUBS it might look like this :\n",
    "\n",
    "```\n",
    "[ [ [II],[XZ],[YX],[ZY] ], [ [II],[XY],[ZX],[YZ] ] ]\n",
    "```\n",
    "\n",
    "Again everything commutes and it means we can measure them ALL simultaneously.\n",
    "\n",
    "\n",
    "The second part is just a list of single Paulis, ie.\n",
    "\n",
    "```\n",
    "[ [ [I], [X] ], [ [I], [X] ] ]\n",
    "```\n",
    "\n",
    "which also commute, on two qubits it generates the Paulis II, IX, XI and XX."
   ]
  },
  {
   "cell_type": "markdown",
   "metadata": {},
   "source": [
    "# Generating and analysing the samples"
   ]
  },
  {
   "cell_type": "markdown",
   "metadata": {},
   "source": [
    "### Main idea\n",
    "\n",
    "So the main idea behind the eigenvalue estimation procedures to estimate the eigenvalues of these Paulis (and the eigenvalues of the offsets) and to use them to get the *sparse* global error distribution.\n",
    "\n",
    "*Note - with only two qubits there is not going to be a saving - see the work book for 14 qubits if you need to be convinced - but understand this one first*\n",
    "\n",
    "![Example](./figures/Example1a.jpg)"
   ]
  },
  {
   "cell_type": "markdown",
   "metadata": {},
   "source": [
    "We have a helper function `generateFromPVecSamples4N`, that basically turns our list into indexes into our eigenvalue vector - so"
   ]
  },
  {
   "cell_type": "code",
   "execution_count": 9,
   "metadata": {},
   "outputs": [
    {
     "data": {
      "text/plain": [
       "4-element Array{Int64,1}:\n",
       "  0\n",
       "  7\n",
       "  9\n",
       " 14"
      ]
     },
     "execution_count": 9,
     "metadata": {},
     "output_type": "execute_result"
    }
   ],
   "source": [
    "generateFromPVecSamples4N(paulisAll[1])"
   ]
  },
  {
   "cell_type": "code",
   "execution_count": 10,
   "metadata": {},
   "outputs": [
    {
     "data": {
      "text/plain": [
       "4-element Array{Float64,1}:\n",
       " 1.0\n",
       " 0.98\n",
       " 1.0\n",
       " 0.98"
      ]
     },
     "execution_count": 10,
     "metadata": {},
     "output_type": "execute_result"
    }
   ],
   "source": [
    "# So looking at the above slide - we can pull out the eigenvalues (in pracitice we will extract them from the device)\n",
    "[BasicOracle[i+1] for i in generateFromPVecSamples4N(paulisAll[1])]"
   ]
  },
  {
   "cell_type": "markdown",
   "metadata": {},
   "source": [
    "We can use the same function `generateFromPVecSamples4N`, with our single Pauli list, where below you can see the indexes correspond to II, IX, XI and XX"
   ]
  },
  {
   "cell_type": "code",
   "execution_count": 11,
   "metadata": {},
   "outputs": [
    {
     "data": {
      "text/plain": [
       "4-element Array{Int64,1}:\n",
       " 0\n",
       " 1\n",
       " 4\n",
       " 5"
      ]
     },
     "execution_count": 11,
     "metadata": {},
     "output_type": "execute_result"
    }
   ],
   "source": [
    "generateFromPVecSamples4N(paulisAll[2])"
   ]
  },
  {
   "cell_type": "markdown",
   "metadata": {},
   "source": [
    "These helper functions also tell you which paulis are indexed when the offsets are applied."
   ]
  },
  {
   "cell_type": "code",
   "execution_count": 12,
   "metadata": {},
   "outputs": [
    {
     "data": {
      "text/plain": [
       "5-element Array{Array{Int64,1},1}:\n",
       " [0, 7, 9, 14]\n",
       " [8, 15, 1, 6]\n",
       " [4, 3, 13, 10]\n",
       " [2, 5, 11, 12]\n",
       " [1, 6, 8, 15]"
      ]
     },
     "execution_count": 12,
     "metadata": {},
     "output_type": "execute_result"
    }
   ],
   "source": [
    "[generateFromPVecSamples4N(paulisAll[1],d) for d in ds]"
   ]
  },
  {
   "cell_type": "code",
   "execution_count": 13,
   "metadata": {},
   "outputs": [
    {
     "data": {
      "text/plain": [
       "5-element Array{Array{Float64,1},1}:\n",
       " [1.0, 0.98, 1.0, 0.98]\n",
       " [0.9, 0.88, 0.9, 0.88]\n",
       " [0.86, 0.84, 0.86, 0.84]\n",
       " [0.94, 0.96, 0.94, 0.96]\n",
       " [0.9, 0.88, 0.9, 0.88]"
      ]
     },
     "execution_count": 13,
     "metadata": {},
     "output_type": "execute_result"
    }
   ],
   "source": [
    "[map(x->BasicOracle[x+1],generateFromPVecSamples4N(paulisAll[1],d)) for d in ds]"
   ]
  },
  {
   "cell_type": "markdown",
   "metadata": {},
   "source": [
    "### Walsh-Hadamard transform again!\n",
    "\n",
    "The trick then is we want to take the eigenvalues, indexed by above and hadamard them together. This creates the quasi probability vector buckets (U_j) in the paper - which will allow us to identify individual Paulis and operate the peeling decoder\n",
    "\n",
    "![SecondExampleOfPeel](./figures/Example2a.jpg)"
   ]
  },
  {
   "cell_type": "code",
   "execution_count": 14,
   "metadata": {},
   "outputs": [
    {
     "data": {
      "text/plain": [
       "5-element Array{Array{Float64,1},1}:\n",
       " [0.99, 0.01, 0.0, 0.0]\n",
       " [0.89, 0.01, 0.0, 0.0]\n",
       " [0.85, 0.01, 0.0, 0.0]\n",
       " [0.95, -0.01, 0.0, 0.0]\n",
       " [0.89, 0.01, 0.0, 0.0]"
      ]
     },
     "execution_count": 14,
     "metadata": {},
     "output_type": "execute_result"
    }
   ],
   "source": [
    "#Here its as simple as:\n",
    "[round.(fwht_natural(map(x->BasicOracle[x+1],generateFromPVecSamples4N(paulisAll[1],d))),digits=10) for d in ds]\n"
   ]
  },
  {
   "cell_type": "code",
   "execution_count": 15,
   "metadata": {},
   "outputs": [
    {
     "name": "stdout",
     "output_type": "stream",
     "text": [
      "Bucket 1 is: [0.99, 0.89, 0.85, 0.95, 0.89]\n",
      "Bucket 2 is: [0.01, 0.01, 0.01, -0.01, 0.01]\n",
      "Bucket 3 is: [0.0, 0.0, 0.0, 0.0, 0.0]\n",
      "Bucket 4 is: [0.0, 0.0, 0.0, 0.0, 0.0]\n"
     ]
    }
   ],
   "source": [
    "# Because of the way we calcuated it, we need to reconfigure it slightly to see what the buckets and offsets are:\n",
    "results = [round.(fwht_natural(map(x->BasicOracle[x+1],generateFromPVecSamples4N(paulisAll[1],d))),digits=10) for d in ds]\n",
    "for buckets in 1:4\n",
    "    bucketAndOffset = [x[buckets] for x in results]\n",
    "    print(\"Bucket $buckets is: $bucketAndOffset\\n\")\n",
    "end\n"
   ]
  },
  {
   "cell_type": "markdown",
   "metadata": {},
   "source": [
    "### Reading the results\n",
    "\n",
    "So Buckets 3 and 4 clearly contain no Paulis.\n",
    "Because Bucket 2 has the same value (different sign) it is a **single-ton** with value 0.01 (its a probability so always positive).\n",
    "\n",
    "The sign of the offsets lets us identify which one it is:\n",
    "\n",
    "In this case the signs are ++-+ which becomes 0010, which is IX.\n",
    "\n",
    "**Hold on** why is not IY - well recall because we are using the WHT_natural transform the index on our probability vector is different from our eigenvalue vector (see beginning of workbook!). The change is really just a swap of X and Y. So in our probability vector we have identified the Pauli IX as having an error rate  of 0.01, and this is correct.\n",
    "\n",
    "Unfortunately we can see Bucket 1 contains multiple paulis - its value does not remain (absolutely) constant through the the offsets. \n",
    "\n",
    "So lets see what happens in our next sub-sampling group... (the only difference in the code below is we now use paulisAll[2])"
   ]
  },
  {
   "cell_type": "code",
   "execution_count": 16,
   "metadata": {},
   "outputs": [
    {
     "name": "stdout",
     "output_type": "stream",
     "text": [
      "Bucket 1 is: [0.93, 0.93, 0.93, 0.91, 0.93]\n",
      "Bucket 2 is: [0.0, 0.0, 0.0, 0.0, 0.0]\n",
      "Bucket 3 is: [0.02, 0.02, -0.02, -0.02, 0.02]\n",
      "Bucket 4 is: [0.05, -0.05, -0.05, 0.05, -0.05]\n"
     ]
    }
   ],
   "source": [
    "results = [round.(fwht_natural(map(x->BasicOracle[x+1],generateFromPVecSamples4N(paulisAll[2],d))),digits=10) for d in ds]\n",
    "for buckets in 1:4\n",
    "    bucketAndOffset = [x[buckets] for x in results]\n",
    "    print(\"Bucket $buckets is: $bucketAndOffset\\n\")\n",
    "end"
   ]
  },
  {
   "cell_type": "markdown",
   "metadata": {},
   "source": [
    "### More results\n",
    "\n",
    "So here we can see we have split off more Paulis.\n",
    "\n",
    "In this case Bucket 3 contains a singleton, value 0.02, index = +--+ = 0110 = YX (check above that's correct!)\n",
    "\n",
    "And Bucket 4 contains a singleton, value 0.05, index --+- or 1101, which is ZY (✓)\n",
    "\n",
    "Okay let's pretend we don't know the one we are missing - what can we do now - well we can PEEL!"
   ]
  },
  {
   "cell_type": "markdown",
   "metadata": {},
   "source": [
    "# PEELing"
   ]
  },
  {
   "cell_type": "markdown",
   "metadata": {},
   "source": [
    "Story so far, we have just looked at our second collection  and seen the following:"
   ]
  },
  {
   "cell_type": "code",
   "execution_count": 17,
   "metadata": {},
   "outputs": [
    {
     "name": "stdout",
     "output_type": "stream",
     "text": [
      "Bucket 1 is: [0.93, 0.93, 0.93, 0.91, 0.93]\n",
      "Bucket 2 is: [0.0, 0.0, 0.0, 0.0, 0.0]\n",
      "Bucket 3 is: [0.02, 0.02, -0.02, -0.02, 0.02]\n",
      "Bucket 4 is: [0.05, -0.05, -0.05, 0.05, -0.05]\n"
     ]
    }
   ],
   "source": [
    "results = [round.(fwht_natural(map(x->BasicOracle[x+1],generateFromPVecSamples4N(paulisAll[2],d))),digits=10) for d in ds]\n",
    "for buckets in 1:4\n",
    "    bucketAndOffset = [x[buckets] for x in results]\n",
    "    print(\"Bucket $buckets is: $bucketAndOffset\\n\")\n",
    "end"
   ]
  },
  {
   "cell_type": "markdown",
   "metadata": {},
   "source": [
    "Which has allowed us to pull out YX = 0.02 and ZY = 0.05. But hold on we know from previously that IX is 0.01 and that doesn't appear here!!!\n",
    "\n",
    "IX must be in a multi-ton bucket. If we can work out which one, the we can subtract it out of the bucket (that holds more than one Pauli). The with a bit of luck, there will be only one left and we can learn another Pauli error rate.\n",
    "\n",
    "Well which bucket. (Okay, so in this example its bleeding obvious it has to be bucket 1, but bear with me, let's calculate it - the same way we would do if there were, say, 14 thousand odd buckets and its not so obvious!).\n",
    "\n",
    "The trick here is to realise that when we Walsh-Hadamard transformed our selected Paulis, it took the 16 Pauli error rates here and split them up into four buckets which contain 4 error rates. We just need to work out which. But maybe it would be a good idea to show how this works...\n",
    "\n",
    "In this case the four eigenvalues that were sampled were [0,1,4 and 5]\n",
    "\n",
    "We can look at the corresponding rows of the WHT matrix that turned the probabilities into these eigenvalues:"
   ]
  },
  {
   "cell_type": "code",
   "execution_count": 18,
   "metadata": {},
   "outputs": [
    {
     "data": {
      "text/plain": [
       "4-element Array{Array{Int8,1},1}:\n",
       " [1, 1, 1, 1, 1, 1, 1, 1, 1, 1, 1, 1, 1, 1, 1, 1]\n",
       " [1, -1, 1, -1, 1, -1, 1, -1, 1, -1, 1, -1, 1, -1, 1, -1]\n",
       " [1, 1, 1, 1, -1, -1, -1, -1, 1, 1, 1, 1, -1, -1, -1, -1]\n",
       " [1, -1, 1, -1, -1, 1, -1, 1, 1, -1, 1, -1, -1, 1, -1, 1]"
      ]
     },
     "execution_count": 18,
     "metadata": {},
     "output_type": "execute_result"
    }
   ],
   "source": [
    "[Hadamard.hadamard(16)[i+1,:] for i in [0,1,4,5]]"
   ]
  },
  {
   "cell_type": "markdown",
   "metadata": {},
   "source": [
    "So that might not be instantly enlightning, but see what happens if you add these together:"
   ]
  },
  {
   "cell_type": "code",
   "execution_count": 19,
   "metadata": {},
   "outputs": [
    {
     "name": "stdout",
     "output_type": "stream",
     "text": [
      "Int8[4, 0, 4, 0, 0, 0, 0, 0, 4, 0, 4, 0, 0, 0, 0, 0]"
     ]
    }
   ],
   "source": [
    "print(sum([Hadamard.hadamard(16)[i+1,:] for i in [0,1,4,5]]))"
   ]
  },
  {
   "cell_type": "markdown",
   "metadata": {},
   "source": [
    "We can see that all but four of them cancel out, in fact if we WHT-Transformed just these rows:"
   ]
  },
  {
   "cell_type": "code",
   "execution_count": 20,
   "metadata": {},
   "outputs": [
    {
     "data": {
      "text/plain": [
       "4-element Array{Array{Int8,1},1}:\n",
       " [4, 0, 4, 0, 0, 0, 0, 0, 4, 0, 4, 0, 0, 0, 0, 0]\n",
       " [0, 4, 0, 4, 0, 0, 0, 0, 0, 4, 0, 4, 0, 0, 0, 0]\n",
       " [0, 0, 0, 0, 4, 0, 4, 0, 0, 0, 0, 0, 4, 0, 4, 0]\n",
       " [0, 0, 0, 0, 0, 4, 0, 4, 0, 0, 0, 0, 0, 4, 0, 4]"
      ]
     },
     "execution_count": 20,
     "metadata": {},
     "output_type": "execute_result"
    }
   ],
   "source": [
    "Hadamard.hadamard(4)*[Hadamard.hadamard(16)[i+1,:] for i in [0,1,4,5]]"
   ]
  },
  {
   "cell_type": "markdown",
   "metadata": {},
   "source": [
    "We can see exactly what Pauli is in what bucket. (and we can also see that each Pauli error is only in one bucket!)\n",
    "\n",
    "Again I have helper functions that ease this: (In fact the PEEL.jl contains code that does everything but more later)"
   ]
  },
  {
   "cell_type": "code",
   "execution_count": 21,
   "metadata": {},
   "outputs": [
    {
     "data": {
      "text/plain": [
       "1-element Array{Any,1}:\n",
       " [[\"0000\", \"0110\", \"1101\", \"1011\"], [\"0100\", \"0010\", \"1001\", \"1111\"], [\"1100\", \"1010\", \"0001\", \"0111\"], [\"1000\", \"1110\", \"0101\", \"0011\"]]"
      ]
     },
     "execution_count": 21,
     "metadata": {},
     "output_type": "execute_result"
    }
   ],
   "source": [
    "fourPattern(paulisAll[1])"
   ]
  },
  {
   "cell_type": "markdown",
   "metadata": {},
   "source": [
    "So above shows what Paulis are in what buckets for our first sub-sampling group. And in our 'single' Pauli groups we use"
   ]
  },
  {
   "cell_type": "code",
   "execution_count": 22,
   "metadata": {},
   "outputs": [
    {
     "data": {
      "text/plain": [
       "2-element Array{Array{Array{String,1},1},1}:\n",
       " [[\"00\", \"01\"], [\"10\", \"11\"]]\n",
       " [[\"00\", \"01\"], [\"10\", \"11\"]]"
      ]
     },
     "execution_count": 22,
     "metadata": {},
     "output_type": "execute_result"
    }
   ],
   "source": [
    "[twoPattern(x) for x in paulisAll[2]]"
   ]
  },
  {
   "cell_type": "markdown",
   "metadata": {},
   "source": [
    "The second one is a little bit more difficult to read, but the Pauli we are enquiring about is IX, i.e. 0010 (remember we are in probabilities here, its the same bit patter we 'read' off the buckets).\n",
    "\n",
    "So that falls into the left hand vectors both times and is therefore bucket 00! Whereas 0110, would be right hand vector, left hand vector, i.e. 10 and therefore bucket 3 (2+1).(which of course 0110 = YX was).\n",
    "\n",
    "We can also do some more sanity checks if you want, remember we found IX (0010) in bucket 1 of the paulisAll[1] subsample group - and yep there it is in the four pattern list, in the second set (bucket 1).\n",
    "\n",
    "(You can also see that (II, YX and ZY) (0000, 0110 and 1101) are all in bucket 0 of the first subsampling group - a busy bucket!)\n",
    "\n",
    "However, turning to the peel at hand IX is in bucket 0 of the following sample group:\n",
    "\n",
    "---\n",
    "**Note**\n",
    "\n",
    "Remember if you are confused and think that YX is 1001, we are in the PAULI PROBABILITY labels where we swapped X and Y's bit patterns. In the Eigenvalue labels \n",
    "`01 = X`, With probabilities `10 = X`. Vice-versa with Y. Z and I remain unchanged (11 and 00 respectively).\n",
    "\n",
    "---\n",
    "\n"
   ]
  },
  {
   "cell_type": "markdown",
   "metadata": {},
   "source": [
    "## So let's PEEL\n",
    "\n",
    "We know that 0010 has value 0.01 and lies in Bucket 1.\n",
    "\n",
    "Bucket 1 is: `[0.93, 0.93, 0.93, 0.91, 0.93]`.\n",
    "\n",
    "We want to subtrace 0.01 from each of these, with the appropriate sign given by the bit pattern:\n",
    "\n",
    "0010, which you will recall is + ++-+ (the non-offset first one is always positive):\n",
    "\n",
    "So after Peeling our new bucket 1 is:"
   ]
  },
  {
   "cell_type": "code",
   "execution_count": 23,
   "metadata": {},
   "outputs": [
    {
     "data": {
      "text/plain": [
       "5-element Array{Float64,1}:\n",
       " 0.92\n",
       " 0.92\n",
       " 0.92\n",
       " 0.92\n",
       " 0.92"
      ]
     },
     "execution_count": 23,
     "metadata": {},
     "output_type": "execute_result"
    }
   ],
   "source": [
    "[0.93, 0.93, 0.93, 0.91, 0.93] - [0.01,0.01,0.01,-0.01,0.01]"
   ]
  },
  {
   "cell_type": "markdown",
   "metadata": {},
   "source": [
    "Which tells us that it has only one value (0.92), so it is a single Pauli error, and it is pauli ++++ i.e. 0000 or II\n",
    "and we have:\n",
    "\n",
    "```\n",
    "II = 0.92\n",
    "IX = 0.01\n",
    "YX = 0.02 \n",
    "ZY = 0.05\n",
    "==========\n",
    "     1.00\n",
    "```\n",
    "\n",
    "And we are done."
   ]
  },
  {
   "cell_type": "markdown",
   "metadata": {},
   "source": [
    "Now obviously this all a very simple example. But it illustrates the main points. \n",
    "The next workbook we look at a 14 qubit system and show how to recover many many more Paulis.\n"
   ]
  },
  {
   "cell_type": "markdown",
   "metadata": {},
   "source": [
    "# Summary (aka putting it all together)"
   ]
  },
  {
   "cell_type": "markdown",
   "metadata": {},
   "source": [
    "Of course we can automate all this, I'll put together the steps here that do all the above more automatically. The full (deal with noise) algorithm is in the next workbook."
   ]
  },
  {
   "cell_type": "markdown",
   "metadata": {},
   "source": [
    "## Step 1, get our data\n",
    "\n",
    "Of course in reality you will have a device and you will perform experiments on it to get a number of eigenvalues. Figure 1 of the paper shows the experiments that need to be run. Here I am going to just create an eigenvalue oracle - but I'll try and put together a qasm/cirq workbook with experiments in due course."
   ]
  },
  {
   "cell_type": "code",
   "execution_count": 24,
   "metadata": {},
   "outputs": [
    {
     "data": {
      "text/plain": [
       "fidelityLabels (generic function with 1 method)"
      ]
     },
     "execution_count": 24,
     "metadata": {},
     "output_type": "execute_result"
    }
   ],
   "source": [
    "function probabilityLabels(x;qubits=2)\n",
    "    str = string(x,base=4,pad=qubits)\n",
    "    paulis = ['I','Y','X','Z']\n",
    "    return map(x->paulis[parse(Int,x)+1],str)\n",
    "end\n",
    "\n",
    "function fidelityLabels(x;qubits=2)\n",
    "    str = string(x,base=4,pad=qubits)\n",
    "    paulis = ['I','X','Y','Z']\n",
    "    return map(x->paulis[parse(Int,x)+1],str)\n",
    "end"
   ]
  },
  {
   "cell_type": "code",
   "execution_count": 25,
   "metadata": {},
   "outputs": [
    {
     "data": {
      "text/plain": [
       "\"IZ\""
      ]
     },
     "execution_count": 25,
     "metadata": {},
     "output_type": "execute_result"
    }
   ],
   "source": [
    "probabilityLabels(3)"
   ]
  },
  {
   "cell_type": "code",
   "execution_count": 26,
   "metadata": {},
   "outputs": [
    {
     "name": "stdout",
     "output_type": "stream",
     "text": [
      "00 : II → 0.91\n",
      "01 : IY → 0.04\n",
      "02 : IX → 0.03\n",
      "03 : IZ → 0.0\n",
      "04 : YI → 0.0\n",
      "05 : YY → 0.02\n",
      "06 : YX → 0.0\n",
      "07 : YZ → 0.0\n",
      "08 : XI → 0.0\n",
      "09 : XY → 0.0\n",
      "10 : XX → 0.0\n",
      "11 : XZ → 0.0\n",
      "12 : ZI → 0.0\n",
      "13 : ZY → 0.0\n",
      "14 : ZX → 0.0\n",
      "15 : ZZ → 0.0\n"
     ]
    }
   ],
   "source": [
    "using Random\n",
    "# Create a fake sparse probabability Distribution\n",
    "dist = zeros(16) \n",
    "# Shuffle indices 2:16 and then set three random Paulis to have some errors\n",
    "errorsOn = shuffle(2:16)[1:3]\n",
    "# We are just giving them nice errors so we can see what is happening more easlily\n",
    "for x in errorsOn\n",
    "    dist[x] =  rand(1:5)/100\n",
    "end\n",
    "\n",
    "dist[1]=1-sum(dist)\n",
    "\n",
    "\n",
    "# Print it out so we can check we got it right later\n",
    "\n",
    "for (ix,i) in enumerate(dist)\n",
    "    print(\"$(string(ix-1,pad=2)) : $(probabilityLabels(ix-1)) → $i\\n\")\n",
    "end\n"
   ]
  },
  {
   "cell_type": "code",
   "execution_count": 27,
   "metadata": {},
   "outputs": [
    {
     "name": "stdout",
     "output_type": "stream",
     "text": [
      "00 : II → 1.0\n",
      "01 : IX → 0.88\n",
      "02 : IY → 0.94\n",
      "03 : IZ → 0.82\n",
      "04 : XI → 0.96\n",
      "05 : XX → 0.92\n",
      "06 : XY → 0.9\n",
      "07 : XZ → 0.86\n",
      "08 : YI → 1.0\n",
      "09 : YX → 0.88\n",
      "10 : YY → 0.94\n",
      "11 : YZ → 0.82\n",
      "12 : ZI → 0.96\n",
      "13 : ZX → 0.92\n",
      "14 : ZY → 0.9\n",
      "15 : ZZ → 0.86\n"
     ]
    }
   ],
   "source": [
    "# Create our oracle (note here no noise)\n",
    "# The fast transform has very mild percision errors so we round to 10 digits to keep it clean)\n",
    "\n",
    "oracle = round.(ifwht_natural(dist),digits=10)\n",
    "\n",
    "# Print it for curiousity\n",
    "for (ix,i) in enumerate(oracle)\n",
    "    print(\"$(string(ix-1,pad=2)) : $(fidelityLabels(ix-1)) → $i\\n\")\n",
    "end\n",
    "\n"
   ]
  },
  {
   "cell_type": "markdown",
   "metadata": {},
   "source": [
    "## Step 2 - Choose our subsampling groups"
   ]
  },
  {
   "cell_type": "markdown",
   "metadata": {},
   "source": [
    "We are going to choose two from among the following:"
   ]
  },
  {
   "cell_type": "code",
   "execution_count": 28,
   "metadata": {},
   "outputs": [
    {
     "data": {
      "text/plain": [
       "2-element Array{Array{Array{Int64,1},1},1}:\n",
       " [[0, 0, 0, 0], [0, 1, 1, 0], [1, 1, 0, 1], [1, 0, 1, 1]]\n",
       " [[0, 0, 0, 0], [0, 1, 1, 1], [1, 0, 0, 1], [1, 1, 1, 0]]"
      ]
     },
     "execution_count": 28,
     "metadata": {},
     "output_type": "execute_result"
    }
   ],
   "source": [
    "potentialSingles = [\n",
    "                    [[0,0],[0,1]], # IX\n",
    "                    [[0,0],[1,0]], # IY\n",
    "                    [[0,0],[1,1]], # IZ\n",
    "                    ]\n",
    "\n",
    "potentialMuBs = [[[0,0,0,0],[0,1,1,0],[1,1,0,1],[1,0,1,1]], #XY ZX YZ\n",
    "                 [[0,0,0,0],[0,1,1,1],[1,0,0,1],[1,1,1,0]]] #XZ YX ZY\n"
   ]
  },
  {
   "cell_type": "code",
   "execution_count": 29,
   "metadata": {},
   "outputs": [
    {
     "name": "stdout",
     "output_type": "stream",
     "text": [
      "[[0, 0, 0, 0], [1, 0, 0, 0], [0, 1, 0, 0], [0, 0, 1, 0], [0, 0, 0, 1]]"
     ]
    }
   ],
   "source": [
    "paulisAll=[]\n",
    "mappings=[]\n",
    "\n",
    "# Randomly choose one of the MUBs.\n",
    "\n",
    "for i = 1:1\n",
    "     push!(mappings,Dict())\n",
    "     choose = rand(1:2,1)\n",
    "     push!(paulisAll,vcat([potentialMuBs[x] for x in choose]))\n",
    "end\n",
    "\n",
    "\n",
    "# For the single qubit MUB we need , I am choose one randomly again.\n",
    "# Create a single version\n",
    "for i = 1:1\n",
    "         push!(mappings,Dict())\n",
    "         chooseS = rand(1:3,2)\n",
    "         push!(paulisAll,vcat([potentialSingles[chooseS[1]]],[potentialSingles[chooseS[2]]]))\n",
    "end\n",
    "\n",
    "\n",
    "# Create the 'bit' offsets\n",
    "# This is used to work out the Pauli we isolate in a single bin. Here we have 2*(n=2), 4 bits per Pauli\n",
    "ds = vcat(\n",
    "    [[0 for _ = 1:4]],\n",
    "    [map(x->parse(Int,x),collect(reverse(string(i,base=2,pad=4)))) for i in [2^b for b=0:3]]);\n",
    "# e.g.\n",
    "print(ds)\n"
   ]
  },
  {
   "cell_type": "markdown",
   "metadata": {},
   "source": [
    "## Step 3 - Organise the different bins and offsets."
   ]
  },
  {
   "cell_type": "code",
   "execution_count": 30,
   "metadata": {},
   "outputs": [],
   "source": [
    "# Here listOfXP is just our list of buckets and offsets.\n",
    "\n",
    "# Again I have rounded (to 10 digits) the output of fwht_natural --- just to make things easier to read\n",
    "listOfXP = []\n",
    "for (ix,x) in enumerate(paulisAll)\n",
    "    push!(listOfXP,[round.(fwht_natural([oracle[y+1] for y in generateFromPVecSamples4N(x,d)]),digits=10) for d in ds])\n",
    "end\n"
   ]
  },
  {
   "cell_type": "code",
   "execution_count": 31,
   "metadata": {},
   "outputs": [
    {
     "data": {
      "text/plain": [
       "2-element Array{Any,1}:\n",
       " [[0.91, 0.03, 0.02, 0.04], [0.91, 0.03, 0.02, 0.04], [0.91, 0.03, -0.02, 0.04], [0.91, -0.03, 0.02, 0.04], [0.91, 0.03, -0.02, -0.04]]\n",
       " [[0.95, 0.03, 0.02, 0.0], [0.95, 0.03, 0.02, 0.0], [0.95, 0.03, -0.02, -0.0], [0.95, -0.03, 0.02, -0.0], [0.87, 0.03, -0.02, 0.0]]"
      ]
     },
     "execution_count": 31,
     "metadata": {},
     "output_type": "execute_result"
    }
   ],
   "source": [
    "listOfXP"
   ]
  },
  {
   "cell_type": "markdown",
   "metadata": {},
   "source": [
    "Then we need to work out which Paulis go into which buckets - I will use a vector listOfPs (list of Paulis) to do that. Generated as follows:\n",
    "    "
   ]
  },
  {
   "cell_type": "code",
   "execution_count": 32,
   "metadata": {},
   "outputs": [],
   "source": [
    "# Use the patterns to create the listOfPs\n",
    "\n",
    "listOfPs=[]\n",
    "for p in paulisAll\n",
    "    hMap = []\n",
    "    for i in p\n",
    "       if length(i) == 2\n",
    "            push!(hMap,twoPattern(i))\n",
    "        elseif length(i) == 4\n",
    "            push!(hMap,fourPattern([i])[1])\n",
    "        else # Assume a binary bit pattern\n",
    "            push!(hMap,[length(i)])\n",
    "        end\n",
    "    end\n",
    "    push!(listOfPs,hMap)\n",
    "end"
   ]
  },
  {
   "cell_type": "code",
   "execution_count": 33,
   "metadata": {},
   "outputs": [
    {
     "data": {
      "text/plain": [
       "2-element Array{Any,1}:\n",
       " Any[[[\"0000\", \"0110\", \"1101\", \"1011\"], [\"0100\", \"0010\", \"1001\", \"1111\"], [\"1100\", \"1010\", \"0001\", \"0111\"], [\"1000\", \"1110\", \"0101\", \"0011\"]]]\n",
       " Any[[[\"00\", \"01\"], [\"10\", \"11\"]], [[\"00\", \"10\"], [\"01\", \"11\"]]]"
      ]
     },
     "execution_count": 33,
     "metadata": {},
     "output_type": "execute_result"
    }
   ],
   "source": [
    "# If you are curious this is what it looks like:\n",
    "listOfPs"
   ]
  },
  {
   "cell_type": "markdown",
   "metadata": {},
   "source": [
    "## Step 4- Run the decoder!"
   ]
  },
  {
   "cell_type": "code",
   "execution_count": 34,
   "metadata": {},
   "outputs": [
    {
     "name": "stdout",
     "output_type": "stream",
     "text": [
      "----- Processing subsampling group: 1 ----- \n",
      "Found a bucket that wasn't zero, it was bucket: 1\n",
      "\tIt was a singleton: -----> 0000 II - 0 = 0.91\n",
      "\tPeeling it out of the other subsampling group.\n",
      "Found a bucket that wasn't zero, it was bucket: 2\n",
      "\tIt was a singleton: -----> 0010 IX - 2 = 0.03\n",
      "\tPeeling it out of the other subsampling group.\n",
      "Found a bucket that wasn't zero, it was bucket: 3\n",
      "\tIt was a singleton: -----> 0101 YY - 5 = 0.02\n",
      "\tPeeling it out of the other subsampling group.\n",
      "Found a bucket that wasn't zero, it was bucket: 4\n",
      "\tIt was a singleton: -----> 0001 IY - 1 = 0.04\n",
      "\tPeeling it out of the other subsampling group.\n",
      "----- Processing subsampling group: 2 ----- \n",
      "I declare success!\n",
      "0001: IY was 0.04 - it was actually 0.04\n",
      "0000: II was 0.91 - it was actually 0.91\n",
      "0010: IX was 0.03 - it was actually 0.03\n",
      "0101: YY was 0.02 - it was actually 0.02\n",
      "Original distribution:\n",
      "00 : II → 0.91\n",
      "01 : IY → 0.04\n",
      "02 : IX → 0.03\n",
      "03 : IZ → 0.0\n",
      "04 : YI → 0.0\n",
      "05 : YY → 0.02\n",
      "06 : YX → 0.0\n",
      "07 : YZ → 0.0\n",
      "08 : XI → 0.0\n",
      "09 : XY → 0.0\n",
      "10 : XX → 0.0\n",
      "11 : XZ → 0.0\n",
      "12 : ZI → 0.0\n",
      "13 : ZY → 0.0\n",
      "14 : ZX → 0.0\n",
      "15 : ZZ → 0.0\n"
     ]
    }
   ],
   "source": [
    "# So this actually alters listOfXP (as it peels, so I am just going to copy it here)\n",
    "# Obviously when we move to 2^28 long vectors we may not want to do that!\n",
    "\n",
    "# We are also using a couple of function in PEEL that automate our peering and inspecting the buckets.\n",
    "\n",
    "# I have added lots of unnecessary print statements so we can see how the algorithm progresses.\n",
    "\n",
    "buckets = deepcopy(listOfXP)\n",
    "found = Dict()\n",
    "for it = 1:2 # For this simple (noiseless example we are not going to need more than two peels)\n",
    "    for co = 1:2 # We have to subsampling groups\n",
    "        print(\"----- Processing subsampling group: $co ----- \\n\")\n",
    "        for ev = 1:4 # Here we know our there are four different buckets.\n",
    "            e = [x[ev] for x in buckets[co]] # The way the buckets are created we want one bucket and its offsets in a vector\n",
    "            if !PEEL.closeToZero(e,4) # This checks if it is close to zero (here it will be zero if its a zeroton - no noise)\n",
    "                print(\"Found a bucket that wasn't zero, it was bucket: $ev\\n\")\n",
    "                (isit,bits,val) = PEEL.checkAndExtractSingleton([e],4) # Check if it is a singleton\n",
    "                if isit\n",
    "                    print(\"\\tIt was a singleton: \")\n",
    "                    vval = parse(Int,bits,base=2)\n",
    "                    print(\"-----> $bits $(probabilityLabels(vval)) - $vval = $(round.(val,digits=10))\\n\")\n",
    "                    print(\"\\tPeeling it out of the other subsampling group.\\n\")\n",
    "                    PEEL.peelBack(buckets,listOfPs,bits,val,found,ds,[])\n",
    "                else\n",
    "                    print(\"\\tIt was a multiton, skipping for now.\\n\")\n",
    "                end\n",
    "            end\n",
    "        end\n",
    "    end\n",
    "    # Found is a dictionary of the pauli errors found.\n",
    "    # The value is a list, it will typically only contain one error - but if you want to change the behaviour \n",
    "    # of peelBack - then you can store the different values found (in a large system with noise each Pauli may be\n",
    "    # be a singleton in multiple sub-sampling groups.\n",
    "    # HERE we are simply adding together all the found values to see if have got them all yet, if so stop.\n",
    "    # We are only interested in the first value returned in values.\n",
    "    if isapprox(sum([round.(x[1],digits=10) for x in values(found)]),1)\n",
    "        break;\n",
    "    end\n",
    "end\n",
    "if isapprox(sum([round.(x[1],digits=10) for x in values(found)]),1)\n",
    "    print(\"I declare success!\\n\")\n",
    "else\n",
    "    print(\"We missed some! Well that's awkward!\\nActually it's not too unlikely.\\n With only two MUBs we would expect to only recover 4^(2/4) i.e. two Paulis, often we get better but clearly not this time. You can re-run with a different distribution if you want to see it work, but really with such a small system we only wanted to get the basic Idea across.\\n\\n\")\n",
    "end\n",
    "for x in keys(found)\n",
    "        xval = parse(Int,x,base=2)\n",
    "        foundValue = round.(found[x][1],digits=10) # We are only interested in the first and we are rounding for readability\n",
    "        print(\"$x: $(probabilityLabels(xval)) was $(foundValue) - it was actually $(dist[xval+1])\\n\")\n",
    "end\n",
    "print(\"Original distribution:\\n\")    \n",
    "for (ix,i) in enumerate(dist)\n",
    "    print(\"$(string(ix-1,pad=2)) : $(probabilityLabels(ix-1)) → $i\\n\")\n",
    "end\n",
    "\n"
   ]
  },
  {
   "cell_type": "code",
   "execution_count": null,
   "metadata": {},
   "outputs": [],
   "source": []
  }
 ],
 "metadata": {
  "@webio": {
   "lastCommId": null,
   "lastKernelId": null
  },
  "kernelspec": {
   "display_name": "Julia 1.4.1",
   "language": "julia",
   "name": "julia-1.4"
  },
  "language_info": {
   "file_extension": ".jl",
   "mimetype": "application/julia",
   "name": "julia",
   "version": "1.4.2"
  }
 },
 "nbformat": 4,
 "nbformat_minor": 2
}
