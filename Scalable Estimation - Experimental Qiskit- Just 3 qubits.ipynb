{
 "cells": [
  {
   "cell_type": "markdown",
   "metadata": {},
   "source": [
    "# Introduction"
   ]
  },
  {
   "cell_type": "markdown",
   "metadata": {},
   "source": [
    "This workbook is an introduction to the basic concepts and designs relating to the paper \n",
    "\n",
    "**Fast estimation of sparse quantum noise** by *Harper, Yu and Flammia*\n",
    "\n",
    "This workbook is going to go through the basic ideas behind experimental design for a trivial 3 qubit system, using qiskit to simulate it. It shows how to build the local circuits in qasm.\n",
    "\n",
    "This is only 3 qubits, to keep the simulation time nice and short. Of course 3 qubits is way too small for this system to be any use. We are looking at recovering Paulis in the order of $4^{\\delta n}$, and $\\delta$ is about 0.25 (upto a maximum of, say, 0.5). Here with n = 3, thats only about 4 values! We do in fact recover more, (about 10) but the high weight Paulis are 4*3 = 12, so really you wouldn't use this protocol here (In fact the number of experiments we do you could almsot certainly use a more tomography style to recover the 64 actual Paulis.\n",
    "\n"
   ]
  },
  {
   "cell_type": "markdown",
   "metadata": {},
   "source": [
    "# Software needed "
   ]
  },
  {
   "cell_type": "markdown",
   "metadata": {},
   "source": [
    "For this introductory notebook, we need minimal software. All these packages should be available through the Julia package manager. However, we will need some to help with the simulation etc.\n",
    "\n",
    "If you get an error trying to \"use\" them the error message tells you how to load them."
   ]
  },
  {
   "cell_type": "code",
   "execution_count": 1,
   "metadata": {},
   "outputs": [
    {
     "data": {
      "text/plain": [
       "#3 (generic function with 1 method)"
      ]
     },
     "execution_count": 1,
     "metadata": {},
     "output_type": "execute_result"
    }
   ],
   "source": [
    "using Hadamard\n",
    "using PyPlot\n",
    "# convenience (type /otimes<tab>) - <tab> is the \"tab\" key.\n",
    "⊗ = kron\n",
    "# type /oplus<tab>\n",
    "⊕ = (x,y)->mod.(x+y,2)\n"
   ]
  },
  {
   "cell_type": "code",
   "execution_count": 2,
   "metadata": {},
   "outputs": [],
   "source": [
    "# I love this add on, especially as some of the simulations take a noticeable time. \n",
    "using ProgressMeter"
   ]
  },
  {
   "cell_type": "code",
   "execution_count": 3,
   "metadata": {},
   "outputs": [],
   "source": [
    "# We are going to need some more of my code\n",
    "# You can get it by doing the following, in the main julia repl (hit ']' to get to the package manager)\n",
    "# pkg> add https://github.com/rharper2/Juqst.jl\n",
    "\n",
    "# Currently there is harmless warning re overloading Hadamard.\n",
    "\n",
    "\n",
    "using Juqst"
   ]
  },
  {
   "cell_type": "code",
   "execution_count": 4,
   "metadata": {},
   "outputs": [
    {
     "data": {
      "text/plain": [
       "Main.PEEL"
      ]
     },
     "execution_count": 4,
     "metadata": {},
     "output_type": "execute_result"
    }
   ],
   "source": [
    "# This is the code in this github that implements the various peeling algorithms for us.\n",
    "include(\"peel.jl\")"
   ]
  },
  {
   "cell_type": "code",
   "execution_count": 5,
   "metadata": {},
   "outputs": [],
   "source": [
    "using Main.PEEL"
   ]
  },
  {
   "cell_type": "code",
   "execution_count": 6,
   "metadata": {},
   "outputs": [
    {
     "data": {
      "text/plain": [
       "getStabilizerForExperiment (generic function with 1 method)"
      ]
     },
     "execution_count": 6,
     "metadata": {},
     "output_type": "execute_result"
    }
   ],
   "source": [
    "include(\"./localPeelFunctions.jl\")"
   ]
  },
  {
   "cell_type": "markdown",
   "metadata": {},
   "source": [
    "### FInally we are going to need qiskit\n",
    "\n",
    "(Instructions to get under Julia)\n",
    "\n",
    "Need to install Conda, PyCall using the julia package manager.\n",
    "\n",
    "Easiest way is the repl (hit ], then add Conda, add PyCall)\n",
    "or...\n",
    "\n",
    "```\n",
    "using Pkg\n",
    "Pkg.add(\"Conda\")\n",
    "Pkg.add(\"PyCall\")\n",
    "```\n",
    "\n",
    "then use Conda to install pip\n",
    "```\n",
    "using Conda\n",
    "Conda.add(\"pip\")\n",
    "```\n",
    "\n",
    "Once that is done, then we can use pip to install qiskit (in a place Julia can find it).\n",
    "\n",
    "\n",
    "```\n",
    "using PyCall\n",
    "run(`$(PyCall.pyprogramname) -m pip install qiskit`)\n",
    "```\n",
    "\n",
    "Then we can use qiskit from Julia!"
   ]
  },
  {
   "cell_type": "code",
   "execution_count": 7,
   "metadata": {},
   "outputs": [
    {
     "data": {
      "text/plain": [
       "PyObject <module 'qiskit' from '/Users/robin/.julia/conda/3/lib/python3.7/site-packages/qiskit/__init__.py'>"
      ]
     },
     "execution_count": 7,
     "metadata": {},
     "output_type": "execute_result"
    }
   ],
   "source": [
    "using PyCall\n",
    "qiskit = pyimport(\"qiskit\")"
   ]
  },
  {
   "cell_type": "markdown",
   "metadata": {},
   "source": [
    "# Some preliminary information.\n",
    "\n",
    "## This is replicated from \"Scalable Estimation - Basic Concepts\"\n"
   ]
  },
  {
   "cell_type": "markdown",
   "metadata": {},
   "source": [
    "# Set up some Pauli Errors to find"
   ]
  },
  {
   "cell_type": "markdown",
   "metadata": {},
   "source": [
    "# Choose our sub-sampling matrices"
   ]
  },
  {
   "cell_type": "markdown",
   "metadata": {},
   "source": [
    "One of the main ideas behind the papers is that we can use the protocols in [Efficient learning of quantum channels](https://arxiv.org/abs/1907.12976) and [Efficient learning of quantum noise](https://arxiv.org/abs/1907.13022) to learn the eigenvalues of an entire stabiliser group ($2^n$) entries at once to arbitrary precision. Whilst it might be quite difficult to learn the eigenvalues of an arbitrary group as this will require an arbitrary $n-$qubit Clifford gate (which can be a lot of primitive gates!) even today's noisy devices can quite easily create a 2-local Stabiliser group over $n-$ qubits. \n",
    "\n"
   ]
  },
  {
   "cell_type": "markdown",
   "metadata": {},
   "source": [
    "Finally we are simulating the recovery in a 6 qubit system. That means our bitstrings are 12 bits long. \n",
    "\n",
    "Our experiments will need two sub-sampling groups. The first subsampling group will be two of our potential MuBs (set out below) (selected randomly). The second subsampling group will have single MUBs (potentialSingles below) on the first and fourth qubit, and a potential (two qubit) MuB on qubits 2 and 3.\n",
    "\n",
    "This maximises the seperation of Paulis using local stabiliser (two qubit) groups."
   ]
  },
  {
   "cell_type": "code",
   "execution_count": 8,
   "metadata": {},
   "outputs": [
    {
     "data": {
      "text/plain": [
       "5-element Array{Array{Array{Int64,1},1},1}:\n",
       " [[0, 0, 0, 0], [1, 1, 0, 1], [1, 0, 1, 1], [0, 1, 1, 0]]\n",
       " [[0, 0, 0, 0], [1, 1, 1, 0], [0, 1, 1, 1], [1, 0, 0, 1]]\n",
       " [[0, 0, 0, 0], [0, 0, 0, 1], [0, 1, 0, 0], [0, 1, 0, 1]]\n",
       " [[0, 0, 0, 0], [0, 0, 1, 0], [1, 0, 0, 0], [1, 0, 1, 0]]\n",
       " [[0, 0, 0, 0], [0, 0, 1, 1], [1, 1, 0, 0], [1, 1, 1, 1]]"
      ]
     },
     "execution_count": 8,
     "metadata": {},
     "output_type": "execute_result"
    }
   ],
   "source": [
    "all2QlMuBs"
   ]
  },
  {
   "cell_type": "code",
   "execution_count": 9,
   "metadata": {},
   "outputs": [
    {
     "name": "stdout",
     "output_type": "stream",
     "text": [
      "Any[Any[(2, 1), (1, 1)], Any[(1, 3), (2, 2)]]\n",
      "Any[Any[[[0, 0, 0, 0], [1, 1, 0, 1], [1, 0, 1, 1], [0, 1, 1, 0]], [[0, 0], [0, 1]]], Any[[[0, 0], [1, 1]], [[0, 0, 0, 0], [1, 1, 1, 0], [0, 1, 1, 1], [1, 0, 0, 1]]]]\n"
     ]
    }
   ],
   "source": [
    "(experiments,paulisAll,ds) = generateSensibleSubsamples([(2,1),(1,2)])\n",
    "print(\"$experiments\\n\")\n",
    "print(\"$paulisAll\\n\")"
   ]
  },
  {
   "cell_type": "code",
   "execution_count": 10,
   "metadata": {},
   "outputs": [
    {
     "data": {
      "text/plain": [
       "3"
      ]
     },
     "execution_count": 10,
     "metadata": {},
     "output_type": "execute_result"
    }
   ],
   "source": [
    "noOfQubits = 3\n"
   ]
  },
  {
   "cell_type": "code",
   "execution_count": 11,
   "metadata": {},
   "outputs": [
    {
     "data": {
      "text/plain": [
       "2-element Array{Any,1}:\n",
       " (2, 1)\n",
       " (1, 1)"
      ]
     },
     "execution_count": 11,
     "metadata": {},
     "output_type": "execute_result"
    }
   ],
   "source": [
    "# Here there are two sets of experiments\n",
    "# The tuple for each qubit, is the (number, experiment type), \n",
    "# the numbers for each will add up to 4 (since we have 4 qubits)\n",
    "experiments[1]"
   ]
  },
  {
   "cell_type": "markdown",
   "metadata": {},
   "source": [
    "# The Experiments"
   ]
  },
  {
   "cell_type": "markdown",
   "metadata": {},
   "source": [
    "## So what are these experiments?"
   ]
  },
  {
   "cell_type": "markdown",
   "metadata": {},
   "source": [
    "\n",
    "Let's pull in the figure from the paper which shows all the experimental designs:\n",
    "\n",
    "![diagram showing designs](./figures/PhaseOffset.pdf)\n",
    "\n",
    "Okay that's a bit busy, lets break it down."
   ]
  },
  {
   "cell_type": "markdown",
   "metadata": {},
   "source": [
    "Step 1 was to choose one MUB from the set for each pair of qubits, well that is what we did in PaulisAll, lets look at the first element of that"
   ]
  },
  {
   "cell_type": "code",
   "execution_count": 12,
   "metadata": {},
   "outputs": [
    {
     "data": {
      "text/plain": [
       "2-element Array{Any,1}:\n",
       " [[0, 0, 0, 0], [1, 1, 0, 1], [1, 0, 1, 1], [0, 1, 1, 0]]\n",
       " [[0, 0], [0, 1]]"
      ]
     },
     "execution_count": 12,
     "metadata": {},
     "output_type": "execute_result"
    }
   ],
   "source": [
    "paulisAll[1]"
   ]
  },
  {
   "cell_type": "markdown",
   "metadata": {},
   "source": [
    "So because it was randomly chosen, you will have to look at that and convince yourself that indeed that each of the two elements shown above are one of these four sets of MuBs.\n",
    "\n",
    "So the first experiment (the top row of (2)) is just an experiment to extract those eigenvalues.\n",
    "\n",
    "How do we do that?\n",
    "\n",
    "Well we have the circuits we need in the appendix of the paper - they look like this:\n",
    "\n",
    "![circuits](./figures/circuits.png)\n",
    "\n",
    "Where what we are going to need on each two qubit pair is either (a) or (c), depending on the MUB randomly selected"
   ]
  },
  {
   "cell_type": "markdown",
   "metadata": {},
   "source": [
    "## Setting up the circuits"
   ]
  },
  {
   "cell_type": "markdown",
   "metadata": {},
   "source": [
    "For the two qubit expermeints, circuit 1 is (a) above and circuit (2) is (c) above.\n",
    "\n",
    "Effectively we take an input state in the computational basis, apply these circuits, do a Pauli twirl of varing gates, reverse the circuit and measure in the computational basis.\n",
    "\n",
    "Some code to set up the circuits on the ... err ... circuit\n"
   ]
  },
  {
   "cell_type": "code",
   "execution_count": 13,
   "metadata": {},
   "outputs": [],
   "source": [
    "pX = [0 1;1 0]\n",
    "pY = [0 -im;im 0]\n",
    "pZ = [1 0;0 -1]\n",
    "pI = [1 0;0 1]\n",
    "paulis = [pI,pX,pY,pZ]\n",
    "superPaulis = [makeSuper(x) for x in paulis];\n"
   ]
  },
  {
   "cell_type": "code",
   "execution_count": 14,
   "metadata": {},
   "outputs": [
    {
     "data": {
      "text/plain": [
       "3"
      ]
     },
     "execution_count": 14,
     "metadata": {},
     "output_type": "execute_result"
    }
   ],
   "source": [
    "experiments[1]\n",
    "numberOfQubits = foldl((a,b)->a[1]+b[1],experiments[1])"
   ]
  },
  {
   "cell_type": "code",
   "execution_count": 15,
   "metadata": {},
   "outputs": [
    {
     "data": {
      "text/plain": [
       "Dict{Any,Any} with 1 entry:\n",
       "  \"000\" => 100"
      ]
     },
     "execution_count": 15,
     "metadata": {},
     "output_type": "execute_result"
    }
   ],
   "source": [
    "# Sanity check on noisless sim\n",
    "circuit = getCircuit(experiments[1],12)\n",
    "qiskit.execute(circuit,qiskit.Aer.get_backend(\"qasm_simulator\"),shots=100).result().get_counts()"
   ]
  },
  {
   "cell_type": "code",
   "execution_count": 16,
   "metadata": {},
   "outputs": [
    {
     "data": {
      "text/html": [
       "<pre style=\"word-wrap: normal;white-space: pre;background: #fff0;line-height: 1.1;font-family: &quot;Courier New&quot;,Courier,monospace\">     ┌───┐     ┌───┐┌───┐┌───┐ ░ ┌───┐ ░ ┌───┐ ░ ┌───┐ ░ ┌───┐ ░ ┌───┐ ░ ┌───┐»\n",
       "q_0: ┤ H ├─────┤ X ├┤ S ├┤ X ├─░─┤ Z ├─░─┤ Y ├─░─┤ X ├─░─┤ X ├─░─┤ X ├─░─┤ X ├»\n",
       "     ├───┤┌───┐└─┬─┘└───┘└─┬─┘ ░ ├───┤ ░ ├───┤ ░ ├───┤ ░ ├───┤ ░ ├───┤ ░ ├───┤»\n",
       "q_1: ┤ H ├┤ S ├──■─────────■───░─┤ Z ├─░─┤ I ├─░─┤ Y ├─░─┤ Y ├─░─┤ Y ├─░─┤ Z ├»\n",
       "     ├───┤└───┘                ░ ├───┤ ░ ├───┤ ░ ├───┤ ░ ├───┤ ░ ├───┤ ░ ├───┤»\n",
       "q_2: ┤ H ├─────────────────────░─┤ I ├─░─┤ I ├─░─┤ I ├─░─┤ I ├─░─┤ Y ├─░─┤ I ├»\n",
       "     └───┘                     ░ └───┘ ░ └───┘ ░ └───┘ ░ └───┘ ░ └───┘ ░ └───┘»\n",
       "c_0: ═════════════════════════════════════════════════════════════════════════»\n",
       "                                                                              »\n",
       "c_1: ═════════════════════════════════════════════════════════════════════════»\n",
       "                                                                              »\n",
       "c_2: ═════════════════════════════════════════════════════════════════════════»\n",
       "                                                                              »\n",
       "«      ░ ┌───┐ ░ ┌───┐ ░ ┌───┐ ░ ┌───┐ ░ ┌───┐ ░ ┌───┐ ░ ┌───┐ ░ ┌───┐┌───┐»\n",
       "«q_0: ─░─┤ I ├─░─┤ Z ├─░─┤ Y ├─░─┤ X ├─░─┤ I ├─░─┤ Y ├─░─┤ Z ├─░─┤ X ├┤ S ├»\n",
       "«      ░ ├───┤ ░ ├───┤ ░ ├───┤ ░ ├───┤ ░ ├───┤ ░ ├───┤ ░ ├───┤ ░ └─┬─┘└───┘»\n",
       "«q_1: ─░─┤ Y ├─░─┤ Y ├─░─┤ X ├─░─┤ Y ├─░─┤ Z ├─░─┤ I ├─░─┤ Y ├─░───■───────»\n",
       "«      ░ ├───┤ ░ ├───┤ ░ ├───┤ ░ ├───┤ ░ ├───┤ ░ ├───┤ ░ ├───┤ ░ ┌───┐     »\n",
       "«q_2: ─░─┤ Y ├─░─┤ Y ├─░─┤ X ├─░─┤ Z ├─░─┤ I ├─░─┤ Z ├─░─┤ Z ├─░─┤ H ├─────»\n",
       "«      ░ └───┘ ░ └───┘ ░ └───┘ ░ └───┘ ░ └───┘ ░ └───┘ ░ └───┘ ░ └───┘     »\n",
       "«c_0: ═════════════════════════════════════════════════════════════════════»\n",
       "«                                                                          »\n",
       "«c_1: ═════════════════════════════════════════════════════════════════════»\n",
       "«                                                                          »\n",
       "«c_2: ═════════════════════════════════════════════════════════════════════»\n",
       "«                                                                          »\n",
       "«     ┌───┐┌───┐┌───┐┌───┐                ░ ┌─┐      \n",
       "«q_0: ┤ S ├┤ S ├┤ X ├┤ H ├────────────────░─┤M├──────\n",
       "«     └───┘└───┘└─┬─┘├───┤┌───┐┌───┐┌───┐ ░ └╥┘┌─┐   \n",
       "«q_1: ────────────■──┤ S ├┤ S ├┤ S ├┤ H ├─░──╫─┤M├───\n",
       "«                    └───┘└───┘└───┘└───┘ ░  ║ └╥┘┌─┐\n",
       "«q_2: ────────────────────────────────────░──╫──╫─┤M├\n",
       "«                                         ░  ║  ║ └╥┘\n",
       "«c_0: ═══════════════════════════════════════╩══╬══╬═\n",
       "«                                               ║  ║ \n",
       "«c_1: ══════════════════════════════════════════╩══╬═\n",
       "«                                                  ║ \n",
       "«c_2: ═════════════════════════════════════════════╩═\n",
       "«                                                    </pre>"
      ],
      "text/plain": [
       "PyObject      ┌───┐     ┌───┐┌───┐┌───┐ ░ ┌───┐ ░ ┌───┐ ░ ┌───┐ ░ ┌───┐ ░ ┌───┐ ░ ┌───┐»\n",
       "q_0: ┤ H ├─────┤ X ├┤ S ├┤ X ├─░─┤ Z ├─░─┤ Y ├─░─┤ X ├─░─┤ X ├─░─┤ X ├─░─┤ X ├»\n",
       "     ├───┤┌───┐└─┬─┘└───┘└─┬─┘ ░ ├───┤ ░ ├───┤ ░ ├───┤ ░ ├───┤ ░ ├───┤ ░ ├───┤»\n",
       "q_1: ┤ H ├┤ S ├──■─────────■───░─┤ Z ├─░─┤ I ├─░─┤ Y ├─░─┤ Y ├─░─┤ Y ├─░─┤ Z ├»\n",
       "     ├───┤└───┘                ░ ├───┤ ░ ├───┤ ░ ├───┤ ░ ├───┤ ░ ├───┤ ░ ├───┤»\n",
       "q_2: ┤ H ├─────────────────────░─┤ I ├─░─┤ I ├─░─┤ I ├─░─┤ I ├─░─┤ Y ├─░─┤ I ├»\n",
       "     └───┘                     ░ └───┘ ░ └───┘ ░ └───┘ ░ └───┘ ░ └───┘ ░ └───┘»\n",
       "c_0: ═════════════════════════════════════════════════════════════════════════»\n",
       "                                                                              »\n",
       "c_1: ═════════════════════════════════════════════════════════════════════════»\n",
       "                                                                              »\n",
       "c_2: ═════════════════════════════════════════════════════════════════════════»\n",
       "                                                                              »\n",
       "«      ░ ┌───┐ ░ ┌───┐ ░ ┌───┐ ░ ┌───┐ ░ ┌───┐ ░ ┌───┐ ░ ┌───┐ ░ ┌───┐┌───┐»\n",
       "«q_0: ─░─┤ I ├─░─┤ Z ├─░─┤ Y ├─░─┤ X ├─░─┤ I ├─░─┤ Y ├─░─┤ Z ├─░─┤ X ├┤ S ├»\n",
       "«      ░ ├───┤ ░ ├───┤ ░ ├───┤ ░ ├───┤ ░ ├───┤ ░ ├───┤ ░ ├───┤ ░ └─┬─┘└───┘»\n",
       "«q_1: ─░─┤ Y ├─░─┤ Y ├─░─┤ X ├─░─┤ Y ├─░─┤ Z ├─░─┤ I ├─░─┤ Y ├─░───■───────»\n",
       "«      ░ ├───┤ ░ ├───┤ ░ ├───┤ ░ ├───┤ ░ ├───┤ ░ ├───┤ ░ ├───┤ ░ ┌───┐     »\n",
       "«q_2: ─░─┤ Y ├─░─┤ Y ├─░─┤ X ├─░─┤ Z ├─░─┤ I ├─░─┤ Z ├─░─┤ Z ├─░─┤ H ├─────»\n",
       "«      ░ └───┘ ░ └───┘ ░ └───┘ ░ └───┘ ░ └───┘ ░ └───┘ ░ └───┘ ░ └───┘     »\n",
       "«c_0: ═════════════════════════════════════════════════════════════════════»\n",
       "«                                                                          »\n",
       "«c_1: ═════════════════════════════════════════════════════════════════════»\n",
       "«                                                                          »\n",
       "«c_2: ═════════════════════════════════════════════════════════════════════»\n",
       "«                                                                          »\n",
       "«     ┌───┐┌───┐┌───┐┌───┐                ░ ┌─┐      \n",
       "«q_0: ┤ S ├┤ S ├┤ X ├┤ H ├────────────────░─┤M├──────\n",
       "«     └───┘└───┘└─┬─┘├───┤┌───┐┌───┐┌───┐ ░ └╥┘┌─┐   \n",
       "«q_1: ────────────■──┤ S ├┤ S ├┤ S ├┤ H ├─░──╫─┤M├───\n",
       "«                    └───┘└───┘└───┘└───┘ ░  ║ └╥┘┌─┐\n",
       "«q_2: ────────────────────────────────────░──╫──╫─┤M├\n",
       "«                                         ░  ║  ║ └╥┘\n",
       "«c_0: ═══════════════════════════════════════╩══╬══╬═\n",
       "«                                               ║  ║ \n",
       "«c_1: ══════════════════════════════════════════╩══╬═\n",
       "«                                                  ║ \n",
       "«c_2: ═════════════════════════════════════════════╩═\n",
       "«                                                    "
      ]
     },
     "execution_count": 16,
     "metadata": {},
     "output_type": "execute_result"
    }
   ],
   "source": [
    "circuit.draw()"
   ]
  },
  {
   "cell_type": "code",
   "execution_count": 17,
   "metadata": {},
   "outputs": [
    {
     "data": {
      "text/plain": [
       "PyObject NoiseModel:\n",
       "  Basis gates: ['cx', 'h', 'id', 's', 'u3', 'x', 'z']\n",
       "  Instructions with noise: ['measure', 'z', 'u3', 'x', 's', 'h', 'cx', 'id']\n",
       "  All-qubits errors: ['measure', 'x', 'h', 's', 'z', 'u3', 'id', 'cx']"
      ]
     },
     "execution_count": 17,
     "metadata": {},
     "output_type": "execute_result"
    }
   ],
   "source": [
    "# Creates a primitive noise ansatz\n",
    "\"\"\" get_noise - get a primitive noise model reflecting the passed in parameters\n",
    "    \n",
    "    Parameters:\n",
    "    - p_meas: the probability of measurement error.\n",
    "    - p_gate: the probability of a single qubit gate error.\n",
    "    - p_gate2: the probability of a cx/cz error\n",
    "    \n",
    "    Returns: the noise_model.\n",
    "\"\"\"\n",
    "function get_noise(p_meas,p_gate,p_gate2)\n",
    "    error_meas =  qiskit.providers.aer.noise.errors.pauli_error([(\"X\",p_meas), (\"I\", 1 - p_meas)])\n",
    "    error_gate1 = qiskit.providers.aer.noise.errors.depolarizing_error(p_gate, 1)\n",
    "    error_gate2 = qiskit.providers.aer.noise.errors.depolarizing_error(p_gate2,2)\n",
    "\n",
    "    noise_model = qiskit.providers.aer.noise.NoiseModel()\n",
    "    noise_model.add_all_qubit_quantum_error(error_meas, \"measure\") # measurement error is applied to measurements\n",
    "    noise_model.add_all_qubit_quantum_error(error_gate1, [\"x\",\"h\",\"s\",\"z\",\"u3\",\"id\"]) # single qubit gate error is applied to x gates\n",
    "    noise_model.add_all_qubit_quantum_error(error_gate2, [\"cx\"]) # two qubit gate error is applied to cx gates\n",
    "    return noise_model\n",
    "end\n",
    "noise_model = get_noise(0.02,0.01,0.015)# from qiskit.providers.aer.noise import NoiseModel   "
   ]
  },
  {
   "cell_type": "code",
   "execution_count": 53,
   "metadata": {},
   "outputs": [
    {
     "name": "stdout",
     "output_type": "stream",
     "text": [
      "164.563599 seconds (1.24 M allocations: 60.870 MiB, 0.02% gc time)\n"
     ]
    },
    {
     "data": {
      "text/plain": [
       "8-element Array{Float64,1}:\n",
       " 1.0\n",
       " 0.984947034991551\n",
       " 0.984992079684527\n",
       " 0.9850246586649374\n",
       " 0.9925184142317649\n",
       " 0.9773391793642305\n",
       " 0.9778266894559563\n",
       " 0.9776545742280393"
      ]
     },
     "execution_count": 53,
     "metadata": {},
     "output_type": "execute_result"
    }
   ],
   "source": [
    "lengths=[2,4,10,20,60,100,200]\n",
    "@time res = doASeries(experiments[1],lengths,50,2000,noise_model)\n",
    "cc = getCounts(res,lengths,noOfQubits)\n",
    "eigs = extractEigenvalues(cc,lengths)"
   ]
  },
  {
   "cell_type": "code",
   "execution_count": 61,
   "metadata": {},
   "outputs": [
    {
     "name": "stdout",
     "output_type": "stream",
     "text": [
      "III: 1.0\n",
      "IZX: 0.984947034991551\n",
      "IYZ: 0.984992079684527\n",
      "IXY: 0.9850246586649374\n",
      "XII: 0.9925184142317649\n",
      "XZX: 0.9773391793642305\n",
      "XYZ: 0.9778266894559563\n",
      "XXY: 0.9776545742280393\n"
     ]
    }
   ],
   "source": [
    "indices = generateEigenvalues(getStabilizerForExperiment(experiments[1]))\n",
    "for (ix,e) in enumerate(eigs)\n",
    "    print(\"$(PEEL.fidelityLabels(indices[ix]-1,qubits=3)): $e\\n\")\n",
    "end"
   ]
  },
  {
   "cell_type": "code",
   "execution_count": 75,
   "metadata": {},
   "outputs": [],
   "source": [
    "recoveredEigenvalues = Dict()\n",
    "indices = generateEigenvalues(getStabilizerForExperiment(experiments[1]))\n",
    "for i in 1:2^noOfQubits\n",
    "    recoveredEigenvalues[indices[i]] = push!(get(recoveredEigenvalues,indices[i],[]),eigs[i])\n",
    "end"
   ]
  },
  {
   "cell_type": "markdown",
   "metadata": {},
   "source": [
    "### Note\n",
    "\n",
    "In the graph below, we can see the primitive noise model we employ. All multi qubit Paulis have the same eigenvalues (also known as fidelity). We get distinct bands depending on whether we have one, two or three Paulis. In reality the device would not have this clear distinction."
   ]
  },
  {
   "cell_type": "code",
   "execution_count": 76,
   "metadata": {},
   "outputs": [
    {
     "data": {
      "image/png": "[encoded data removed]",
      "text/plain": [
       "Figure(PyObject <Figure size 640x480 with 1 Axes>)"
      ]
     },
     "metadata": {},
     "output_type": "display_data"
    },
    {
     "data": {
      "text/plain": [
       "PyObject <matplotlib.legend.Legend object at 0x7fc353b8a290>"
      ]
     },
     "execution_count": 76,
     "metadata": {},
     "output_type": "execute_result"
    }
   ],
   "source": [
    "experiment1_SpamyEigenvalues = map(ifwht_natural,cc);\n",
    "# Dont bother with the first element as its all 1.\n",
    "for x = 2:2^noOfQubits\n",
    "    toPlot = [d[x] for d in experiment1_SpamyEigenvalues]\n",
    "    plot(lengths,toPlot,label=PEEL.fidelityLabels(indices[x]-1,qubits=3))\n",
    "end\n",
    "legend()"
   ]
  },
  {
   "cell_type": "code",
   "execution_count": 77,
   "metadata": {},
   "outputs": [
    {
     "data": {
      "text/plain": [
       "Dict{Any,Any} with 8 entries:\n",
       "  7  => Any[0.985025]\n",
       "  30 => Any[0.977339]\n",
       "  14 => Any[0.984947]\n",
       "  23 => Any[0.977655]\n",
       "  28 => Any[0.977827]\n",
       "  17 => Any[0.992518]\n",
       "  12 => Any[0.984992]\n",
       "  1  => Any[1.0]"
      ]
     },
     "execution_count": 77,
     "metadata": {},
     "output_type": "execute_result"
    }
   ],
   "source": [
    "recoveredEigenvalues"
   ]
  },
  {
   "cell_type": "code",
   "execution_count": 78,
   "metadata": {},
   "outputs": [
    {
     "data": {
      "text/plain": [
       "2-element Array{Any,1}:\n",
       " (1, 3)\n",
       " (2, 2)"
      ]
     },
     "execution_count": 78,
     "metadata": {},
     "output_type": "execute_result"
    }
   ],
   "source": [
    "experiments[2]"
   ]
  },
  {
   "cell_type": "code",
   "execution_count": 79,
   "metadata": {},
   "outputs": [
    {
     "name": "stderr",
     "output_type": "stream",
     "text": [
      "\u001b[32mExperiment:  100%|██████████████████████████████████████| Time: 0:18:41\u001b[39m\n",
      "\u001b[32mExperiment:  100%|██████████████████████████████████████| Time: 0:07:04\u001b[39m\n",
      "\u001b[32mQubitGroups100%|████████████████████████████████████████| Time: 0:25:45\u001b[39m\n"
     ]
    }
   ],
   "source": [
    "# Cycle through experiments... to generate offsets.\n",
    "shots = 2000\n",
    "sequences = 40\n",
    "experi = experiments[1]\n",
    "# This is step 2 of the figure - we move through the different qubit groups.\n",
    "@showprogress 1 \"QubitGroups\" for (ix,stabilizerSelect) in enumerate(experi)\n",
    "    # If it is two qubits we have 5 stabilizer experiments/circuits\n",
    "    range = 1:5\n",
    "    if stabilizerSelect[1] == 1 # one qubit only so only 3 stabiliser experiments\n",
    "        range = 1:3\n",
    "    end\n",
    "    @showprogress 1 \"Experiment:  \" for experimentType in range\n",
    "        newStab = stabilizerSelect\n",
    "        # Check if we have already done this one.\n",
    "        if newStab[2] != experimentType # New experiment needed.\n",
    "            experimentToDo = copy(experi)\n",
    "            newStab = (newStab[1],experimentType)\n",
    "            experimentToDo[ix]=newStab\n",
    "            # Work out the Paulis for that experiment type (we need this later)\n",
    "            paulisForExperiment = getStabilizerForExperiment(experimentToDo)\n",
    "            # Run the experiment for the requisite sequences and shots.\n",
    "            results = doASeries(experimentToDo,lengths,sequences,shots,noise_model)\n",
    "            # Extract the estimated eigenvalues (2^noOfQubits)\n",
    "            cc = getCounts(results,lengths,noOfQubits)\n",
    "            eigs = extractEigenvalues(cc,lengths)\n",
    "            # Work out what eigenvalues we have calcuated\n",
    "            indices = generateEigenvalues(paulisForExperiment)\n",
    "            #print(\"We have experiment $experimentToDo\\nWIth indices $indices\\n\")\n",
    "            # Put them into our 'recoveredEigenvalue' oracle.\n",
    "            for i in 1:2^noOfQubits\n",
    "                recoveredEigenvalues[indices[i]] = push!(get(recoveredEigenvalues,indices[i],[]),eigs[i])\n",
    "            end\n",
    "        end\n",
    "    end\n",
    "\n",
    "end\n"
   ]
  },
  {
   "cell_type": "code",
   "execution_count": 80,
   "metadata": {},
   "outputs": [
    {
     "name": "stdout",
     "output_type": "stream",
     "text": [
      "III:   [1.0, 1.0, 1.0, 1.0, 1.0, 1.0, 1.0]\n",
      "IIX:   [0.99253]\n",
      "IIY:   [0.99255]\n",
      "IIZ:   [0.99244]\n",
      "IXI:   [0.99255]\n",
      "IXX:   [0.98528]\n",
      "IXY:   [0.98502, 0.98494, 0.98494]\n",
      "IXZ:   [0.98493]\n",
      "IYI:   [0.99251]\n",
      "IYX:   [0.98486]\n",
      "IYY:   [0.98523]\n",
      "IYZ:   [0.98499, 0.98479, 0.98478]\n",
      "IZI:   [0.9925]\n",
      "IZX:   [0.98495, 0.98503, 0.98517]\n",
      "IZY:   [0.98486]\n",
      "IZZ:   [0.985]\n",
      "XII:   [0.99252, 0.99251, 0.99248, 0.99244, 0.99249]\n",
      "XIX:   [0.98513]\n",
      "XIY:   [0.9852]\n",
      "XIZ:   [0.98482]\n",
      "XXI:   [0.98522]\n",
      "XXX:   [0.97793]\n",
      "XXY:   [0.97765]\n",
      "XXZ:   [0.97747]\n",
      "XYI:   [0.98511]\n",
      "XYX:   [0.97749]\n",
      "XYY:   [0.97765]\n",
      "XYZ:   [0.97783]\n",
      "XZI:   [0.98518]\n",
      "XZX:   [0.97734]\n",
      "XZY:   [0.97761]\n",
      "XZZ:   [0.97746]\n",
      "YII:   [0.99259]\n",
      "YXY:   [0.97729]\n",
      "YYZ:   [0.97708]\n",
      "YZX:   [0.97785]\n",
      "ZII:   [0.99251]\n",
      "ZXY:   [0.97712]\n",
      "ZYZ:   [0.97707]\n",
      "ZZX:   [0.97762]\n"
     ]
    }
   ],
   "source": [
    "for k in sort(collect(keys(recoveredEigenvalues)))\n",
    "    print(\"$(PEEL.fidelityLabels(k-1,qubits=3)):   $(round.(recoveredEigenvalues[k],digits=5))\\n\")\n",
    "end\n"
   ]
  },
  {
   "cell_type": "code",
   "execution_count": 81,
   "metadata": {},
   "outputs": [
    {
     "data": {
      "text/plain": [
       "2-element Array{Any,1}:\n",
       " Any[(2, 1), (1, 1)]\n",
       " Any[(1, 3), (2, 2)]"
      ]
     },
     "execution_count": 81,
     "metadata": {},
     "output_type": "execute_result"
    }
   ],
   "source": [
    "experiments"
   ]
  },
  {
   "cell_type": "code",
   "execution_count": 82,
   "metadata": {},
   "outputs": [
    {
     "name": "stdout",
     "output_type": "stream",
     "text": [
      "[1, 4, 57, 60, 29, 32, 37, 40]\n"
     ]
    }
   ],
   "source": [
    "# Now we need to repeat, but this time for experiment 2\n",
    "res2 = doASeries(experiments[2],lengths,sequences,shots,noise_model)\n",
    "cc2 = getCounts(res2,lengths,noOfQubits)\n",
    "eigs2 = extractEigenvalues(cc2,lengths)\n",
    "indices2 = generateEigenvalues(getStabilizerForExperiment(experiments[2]))\n",
    "print(\"$indices2\\n\")\n",
    "for i in 1:2^noOfQubits\n",
    "    recoveredEigenvalues[indices2[i]] = push!(get(recoveredEigenvalues,indices2[i],[]),eigs2[i])\n",
    "end"
   ]
  },
  {
   "cell_type": "code",
   "execution_count": 83,
   "metadata": {},
   "outputs": [
    {
     "name": "stdout",
     "output_type": "stream",
     "text": [
      "III:   [1.0, 1.0, 1.0, 1.0, 1.0, 1.0, 1.0, 1.0]\n",
      "IIX:   [0.99253]\n",
      "IIY:   [0.99255]\n",
      "IIZ:   [0.99244, 0.9925]\n",
      "IXI:   [0.99255]\n",
      "IXX:   [0.98528]\n",
      "IXY:   [0.98502, 0.98494, 0.98494]\n",
      "IXZ:   [0.98493]\n",
      "IYI:   [0.99251]\n",
      "IYX:   [0.98486]\n",
      "IYY:   [0.98523]\n",
      "IYZ:   [0.98499, 0.98479, 0.98478]\n",
      "IZI:   [0.9925]\n",
      "IZX:   [0.98495, 0.98503, 0.98517]\n",
      "IZY:   [0.98486]\n",
      "IZZ:   [0.985]\n",
      "XII:   [0.99252, 0.99251, 0.99248, 0.99244, 0.99249]\n",
      "XIX:   [0.98513]\n",
      "XIY:   [0.9852]\n",
      "XIZ:   [0.98482]\n",
      "XXI:   [0.98522]\n",
      "XXX:   [0.97793]\n",
      "XXY:   [0.97765]\n",
      "XXZ:   [0.97747]\n",
      "XYI:   [0.98511]\n",
      "XYX:   [0.97749]\n",
      "XYY:   [0.97765]\n",
      "XYZ:   [0.97783]\n",
      "XZI:   [0.98518, 0.98508]\n",
      "XZX:   [0.97734]\n",
      "XZY:   [0.97761]\n",
      "XZZ:   [0.97746, 0.97787]\n",
      "YII:   [0.99259]\n",
      "YXI:   [0.98488]\n",
      "YXY:   [0.97729]\n",
      "YXZ:   [0.97758]\n",
      "YYZ:   [0.97708]\n",
      "YZX:   [0.97785]\n",
      "ZII:   [0.99251]\n",
      "ZXY:   [0.97712]\n",
      "ZYI:   [0.98506]\n",
      "ZYZ:   [0.97707, 0.97794]\n",
      "ZZX:   [0.97762]\n"
     ]
    }
   ],
   "source": [
    "for k in sort(collect(keys(recoveredEigenvalues)))\n",
    "    print(\"$(PEEL.fidelityLabels(k-1,qubits=3)):   $(round.(recoveredEigenvalues[k],digits=5))\\n\")\n",
    "end\n"
   ]
  },
  {
   "cell_type": "code",
   "execution_count": 84,
   "metadata": {},
   "outputs": [
    {
     "name": "stderr",
     "output_type": "stream",
     "text": [
      "\u001b[32mExperiment:  100%|██████████████████████████████████████| Time: 0:07:17\u001b[39m\n",
      "\u001b[32mExperiment:  100%|██████████████████████████████████████| Time: 0:13:15\u001b[39m\n",
      "\u001b[32mQubitGroups100%|████████████████████████████████████████| Time: 0:20:33\u001b[39m\n"
     ]
    }
   ],
   "source": [
    "# And then cycle through experiments for experiments[2] ... to generate offsets.\n",
    "\n",
    "experi = experiments[2]\n",
    "# This is step 2 of the figure - we move through the different qubit groups.\n",
    "@showprogress 1 \"QubitGroups\" for (ix,stabilizerSelect) in enumerate(experi)\n",
    "    # If it is two qubits we have 5 stabilizer experiments/circuits\n",
    "    range = 1:5\n",
    "    if stabilizerSelect[1] == 1 # one qubit only so only 3 stabiliser experiments\n",
    "        range = 1:3\n",
    "    end\n",
    "    @showprogress 1 \"Experiment:  \" for experimentType in range\n",
    "        newStab = stabilizerSelect\n",
    "        # Check if we have already done this one.\n",
    "        if newStab[2] != experimentType # New experiment needed.\n",
    "            experimentToDo = copy(experi)\n",
    "            newStab = (newStab[1],experimentType)\n",
    "            experimentToDo[ix]=newStab\n",
    "            # Work out the Paulis for that experiment type (we need this later)\n",
    "            paulisForExperiment = getStabilizerForExperiment(experimentToDo)\n",
    "            # Run the experiment for the requisite sequences and shots.\n",
    "            results = doASeries(experimentToDo,lengths,sequences,shots,noise_model)\n",
    "            # Extract the estimated eigenvalues (2^noOfQubits)\n",
    "            cc = getCounts(results,lengths,noOfQubits)\n",
    "            eigs = extractEigenvalues(cc,lengths)\n",
    "            # Work out what eigenvalues we have calcuated\n",
    "            indices = generateEigenvalues(paulisForExperiment)\n",
    "            # print(\"We have experiment $experimentToDo\\nWIth indices $indices\\n\")\n",
    "            # Put them into our 'recoveredEigenvalue' oracle.\n",
    "            for i in 1:2^noOfQubits\n",
    "                recoveredEigenvalues[indices[i]] = push!(get(recoveredEigenvalues,indices[i],[]),eigs[i])\n",
    "            end\n",
    "        end\n",
    "    end\n",
    "\n",
    "end\n"
   ]
  },
  {
   "cell_type": "code",
   "execution_count": 87,
   "metadata": {},
   "outputs": [
    {
     "name": "stdout",
     "output_type": "stream",
     "text": [
      "III:   [1.0, 1.0, 1.0, 1.0, 1.0, 1.0, 1.0, 1.0, 1.0, 1.0, 1.0, 1.0, 1.0, 1.0]\n",
      "IIX:   [0.99253, 0.99255]\n",
      "IIY:   [0.99255, 0.99239]\n",
      "IIZ:   [0.99244, 0.9925, 0.99242, 0.99248, 0.9924, 0.99258]\n",
      "IXI:   [0.99255, 0.9926]\n",
      "IXX:   [0.98528]\n",
      "IXY:   [0.98502, 0.98494, 0.98494]\n",
      "IXZ:   [0.98493, 0.98519]\n",
      "IYI:   [0.99251, 0.99238]\n",
      "IYX:   [0.98486]\n",
      "IYY:   [0.98523]\n",
      "IYZ:   [0.98499, 0.98479, 0.98478, 0.98478]\n",
      "IZI:   [0.9925, 0.99235]\n",
      "IZX:   [0.98495, 0.98503, 0.98517]\n",
      "IZY:   [0.98486]\n",
      "IZZ:   [0.985, 0.98502]\n",
      "XII:   [0.99252, 0.99251, 0.99248, 0.99244, 0.99249, 0.99242]\n",
      "XIX:   [0.98513]\n",
      "XIY:   [0.9852]\n",
      "XIZ:   [0.98482, 0.98509]\n",
      "XXI:   [0.98522, 0.98515]\n",
      "XXX:   [0.97793]\n",
      "XXY:   [0.97765]\n",
      "XXZ:   [0.97747, 0.97785]\n",
      "XYI:   [0.98511, 0.98504]\n",
      "XYX:   [0.97749]\n",
      "XYY:   [0.97765]\n",
      "XYZ:   [0.97783, 0.97762]\n",
      "XZI:   [0.98518, 0.98508, 0.98479, 0.98481]\n",
      "XZX:   [0.97734, 0.97763]\n",
      "XZY:   [0.97761, 0.97769]\n",
      "XZZ:   [0.97746, 0.97787]\n",
      "YII:   [0.99259, 0.99242]\n",
      "YIZ:   [0.98471]\n",
      "YXI:   [0.98488, 0.98508, 0.98496]\n",
      "YXX:   [0.97758]\n",
      "YXY:   [0.97729, 0.97767]\n",
      "YXZ:   [0.97758]\n",
      "YYI:   [0.98486]\n",
      "YYZ:   [0.97708, 0.97722]\n",
      "YZI:   [0.9851]\n",
      "YZX:   [0.97785]\n",
      "YZZ:   [0.97748]\n",
      "ZII:   [0.99251, 0.99236]\n",
      "ZIZ:   [0.98505]\n",
      "ZXI:   [0.98491]\n",
      "ZXY:   [0.97712]\n",
      "ZXZ:   [0.9774]\n",
      "ZYI:   [0.98506, 0.98504, 0.98471]\n",
      "ZYX:   [0.97774]\n",
      "ZYY:   [0.97742]\n",
      "ZYZ:   [0.97707, 0.97794]\n",
      "ZZI:   [0.98477]\n",
      "ZZX:   [0.97762]\n",
      "ZZZ:   [0.97748]\n"
     ]
    }
   ],
   "source": [
    "for k in sort(collect(keys(recoveredEigenvalues)))\n",
    "    print(\"$(PEEL.fidelityLabels(k-1,qubits=3)):   $(round.(recoveredEigenvalues[k],digits=5))\\n\")\n",
    "end\n"
   ]
  },
  {
   "cell_type": "code",
   "execution_count": 88,
   "metadata": {
    "scrolled": false
   },
   "outputs": [
    {
     "name": "stdout",
     "output_type": "stream",
     "text": [
      "III 1.0\n",
      "IIX 0.9925\n",
      "IIY 0.9925\n",
      "IIZ 0.9925\n",
      "IXI 0.9926\n",
      "IXX 0.9853\n",
      "IXY 0.985\n",
      "IXZ 0.9851\n",
      "IYI 0.9924\n",
      "IYX 0.9849\n",
      "IYY 0.9852\n",
      "IYZ 0.9848\n",
      "IZI 0.9924\n",
      "IZX 0.985\n",
      "IZY 0.9849\n",
      "IZZ 0.985\n",
      "XII 0.9925\n",
      "XIX 0.9851\n",
      "XIY 0.9852\n",
      "XIZ 0.985\n",
      "XXI 0.9852\n",
      "XXX 0.9779\n",
      "XXY 0.9777\n",
      "XXZ 0.9777\n",
      "XYI 0.9851\n",
      "XYX 0.9775\n",
      "XYY 0.9777\n",
      "XYZ 0.9777\n",
      "XZI 0.985\n",
      "XZX 0.9775\n",
      "XZY 0.9777\n",
      "XZZ 0.9777\n",
      "YII 0.9925\n",
      "YIZ 0.9847\n",
      "YXI 0.985\n",
      "YXX 0.9776\n",
      "YXY 0.9775\n",
      "YXZ 0.9776\n",
      "YYI 0.9849\n",
      "YYZ 0.9771\n",
      "YZI 0.9851\n",
      "YZX 0.9778\n",
      "YZZ 0.9775\n",
      "ZII 0.9924\n",
      "ZIZ 0.985\n",
      "ZXI 0.9849\n",
      "ZXY 0.9771\n",
      "ZXZ 0.9774\n",
      "ZYI 0.9849\n",
      "ZYX 0.9777\n",
      "ZYY 0.9774\n",
      "ZYZ 0.9775\n",
      "ZZI 0.9848\n",
      "ZZX 0.9776\n",
      "ZZZ 0.9775\n"
     ]
    }
   ],
   "source": [
    "using Statistics\n",
    "fids= Float64[]\n",
    "# Compared to the total number of Eigenvalues, which is\n",
    "for i in sort(collect(keys(recoveredEigenvalues)))\n",
    "    print(\"$(PEEL.fidelityLabels(i-1,qubits=3)) $(round(mean(recoveredEigenvalues[i]),digits=4))\\n\")\n",
    "    push!(fids,round(mean(recoveredEigenvalues[i]),digits=4))\n",
    "end"
   ]
  },
  {
   "cell_type": "code",
   "execution_count": 90,
   "metadata": {},
   "outputs": [],
   "source": [
    "# Average them out\n",
    "using Statistics\n",
    "oracleToUse = Dict()\n",
    "for k in keys(recoveredEigenvalues)\n",
    "    oracleToUse[k]=mean(recoveredEigenvalues[k])\n",
    "end"
   ]
  },
  {
   "cell_type": "code",
   "execution_count": 91,
   "metadata": {},
   "outputs": [],
   "source": [
    "# Generate the samples directly\n",
    "samples = []\n",
    "for (ix,x) in enumerate(paulisAll)\n",
    "    # Similarly if we reverse above (right hand least significant, then we reverse here)\n",
    "   push!(samples,[[y for y in generateFromPVecSamples4N(reverse(x),d)] for d in ds])\n",
    "end\n"
   ]
  },
  {
   "cell_type": "code",
   "execution_count": 92,
   "metadata": {},
   "outputs": [],
   "source": [
    "listOfX = [[fwht_natural([oracleToUse[x+1] for x in y]) for y in s] for s in samples];\n"
   ]
  },
  {
   "cell_type": "code",
   "execution_count": 93,
   "metadata": {
    "scrolled": false
   },
   "outputs": [
    {
     "data": {
      "text/plain": [
       "fidelityLabels (generic function with 1 method)"
      ]
     },
     "execution_count": 93,
     "metadata": {},
     "output_type": "execute_result"
    }
   ],
   "source": [
    "# Some functions to give us labels:\n",
    "function probabilityLabels(x;qubits=2)\n",
    "    str = string(x,base=4,pad=qubits)\n",
    "    paulis = ['I','Y','X','Z']\n",
    "    return map(x->paulis[parse(Int,x)+1],str)\n",
    "end\n",
    "\n",
    "function fidelityLabels(x;qubits=2)\n",
    "    str = string(x,base=4,pad=qubits)\n",
    "    paulis = ['I','X','Y','Z']\n",
    "    return map(x->paulis[parse(Int,x)+1],str)\n",
    "end\n"
   ]
  },
  {
   "cell_type": "code",
   "execution_count": 94,
   "metadata": {},
   "outputs": [
    {
     "data": {
      "text/plain": [
       "2-element Array{Any,1}:\n",
       " Any[[[\"00\", \"01\"], [\"10\", \"11\"]], [[\"0000\", \"1110\", \"1001\", \"0111\"], [\"1100\", \"0010\", \"0101\", \"1011\"], [\"0100\", \"1010\", \"1101\", \"0011\"], [\"1000\", \"0110\", \"0001\", \"1111\"]]]\n",
       " Any[[[\"0000\", \"0110\", \"1101\", \"1011\"], [\"1100\", \"1010\", \"0001\", \"0111\"], [\"1000\", \"1110\", \"0101\", \"0011\"], [\"0100\", \"0010\", \"1001\", \"1111\"]], [[\"00\", \"11\"], [\"10\", \"01\"]]]"
      ]
     },
     "execution_count": 94,
     "metadata": {},
     "output_type": "execute_result"
    }
   ],
   "source": [
    "# Use the patterns to create the listOfPs\n",
    "\n",
    "# What is this?? Well basically it tells us which Pauli error fell into which bin, given our choice of experiment\n",
    "# So the first vector (listOfPs[1][1])\n",
    "listOfPs=[]\n",
    "for p in paulisAll\n",
    "    hMap = []\n",
    "    # Because here we use right hand least significant - we just reverse the order we stored the experiments.\n",
    "    for i in reverse(p)\n",
    "       #print(\"Length $(length(i))\\n\")\n",
    "       if length(i) == 2\n",
    "            push!(hMap,twoPattern(i))\n",
    "        elseif length(i) == 4\n",
    "            push!(hMap,fourPattern([i])[1])\n",
    "        else # Assume a binary bit pattern\n",
    "            push!(hMap,[length(i)])\n",
    "        end\n",
    "    end\n",
    "    push!(listOfPs,hMap)\n",
    "end\n",
    "listOfPs"
   ]
  },
  {
   "cell_type": "code",
   "execution_count": 114,
   "metadata": {
    "scrolled": false
   },
   "outputs": [
    {
     "name": "stdout",
     "output_type": "stream",
     "text": [
      "Pass 57, 1 0.0031676726573997005\n",
      "Pass 58, 1 0.0031676726573997005\n",
      "Pass 59, 1 0.0031676726573997005\n",
      "Pass 60, 2 0.004486562148295693\n",
      "Pass 61, 4 0.008377550994456414\n",
      "Pass 62, 6 0.012182202530395264\n",
      "Pass 63, 8 0.9971617291586665\n",
      "Pass 64, 10 1.0008707051790193\n"
     ]
    }
   ],
   "source": [
    "using LinearAlgebra\n",
    "maxPass = 200\n",
    "# singletons is when 'noise' threshold below which we declare we have found a singletons\n",
    "# It will be related to the measurment accuracy and the number of bins\n",
    "# Here we base it off the shotsToDo variance, on the basis of our hoped for recovery\n",
    "\n",
    "# We start that one low and then slowly increase it, meaning we are more likely to accept\n",
    "# If you have a certain probability distribution and this ansatz is not working, set it\n",
    "# so that you get a reasonable number of hits in the first round.\n",
    "singletons = (0.002*.999)/30000\n",
    "singletonsInc = singletons/2\n",
    "\n",
    "# Zeros is set high - we don't want to accept bins with very low numbers as they are probably just noise\n",
    "# If the (sum(mean - value)^2) for all the offsets is below this number we ignore it.\n",
    "# But then we lower it, meaning we are less likely to think a bin has no value in it.\n",
    "# Obviously it should never be negative.\n",
    "zerosC = (0.03*.999)/20000*2*1.1\n",
    "zerosDec = (zerosC*0.99)/maxPass\n",
    "mappings=[]\n",
    "\n",
    "prevFound = 0\n",
    "qubitSize = 3\n",
    "\n",
    "listOfX = [[fwht_natural([oracleToUse[x+1] for x in y]) for y in s] for s in samples]\n",
    "found = Dict()\n",
    "rmappings = []\n",
    "for x in mappings\n",
    "    if length(x) == 0\n",
    "        push!(rmappings,x)\n",
    "    else\n",
    "        ralt = Dict()\n",
    "        for i in keys(x)\n",
    "            ralt[x[i]]= i\n",
    "        end\n",
    "        push!(rmappings,ralt)\n",
    "    end\n",
    "end    \n",
    "prevFound = 0\n",
    "\n",
    "\n",
    "for i in 1:maxPass\n",
    "\n",
    "\n",
    "\n",
    "    for co = 1:length(listOfX)\n",
    "        bucketSize = length(listOfX[co][1])\n",
    "        for extractValue = 1:bucketSize\n",
    "            extracted = [x[extractValue] for x in listOfX[co]]\n",
    "            if !(PEEL.closeToZero(extracted,qubitSize*2,cutoff= zerosC))\n",
    "               (isit,bits,val) = PEEL.checkAndExtractSingleton([extracted],qubitSize*2,cutoff=singletons)\n",
    "               if isit\n",
    "                  #print(\"$bits\\n\")\n",
    "                  #pval = binaryArrayToNumber(j6*[x == '0' ?  0 : 1 for x in bits])\n",
    "                  vval = parse(Int,bits,base=2)\n",
    "                  #print(\"$bits, $vval $(round(dist[vval+1],digits=5)) and $(round(val,digits=5))\\n\")\n",
    "                  PEEL.peelBack(listOfX,listOfPs,bits,val,found,ds,rmappings)\n",
    "               end\n",
    "            end\n",
    "        end   \n",
    "    end\n",
    "    if length(found) > prevFound\n",
    "                prevFound = length(found)\n",
    "    else\n",
    "        singletons += singletonsInc\n",
    "        zerosC -=zerosDec \n",
    "        if (zerosC <= 0)\n",
    "                break\n",
    "        end\n",
    "     end\n",
    "     if length(found) > 0\n",
    "                print(\"Pass $i, $(length(found)) $(sum([mean(found[x]) for x in keys(found)]))\\n\")\n",
    "            if sum([mean(found[x]) for x in keys(found)]) >= 0.999995\n",
    "                break\n",
    "            end\n",
    "     end\n",
    "\n",
    "\n",
    "end"
   ]
  },
  {
   "cell_type": "code",
   "execution_count": 115,
   "metadata": {},
   "outputs": [
    {
     "name": "stdout",
     "output_type": "stream",
     "text": [
      "IIY -- [0.0021]\n",
      "XII -- [0.0019]\n",
      "IXI -- [0.0013]\n",
      "IIX -- [0.0018]\n",
      "III -- [0.9831]\n",
      "IIZ -- [0.0018]\n",
      "IZI -- [0.0019]\n",
      "YII -- [0.0032]\n",
      "IYI -- [0.0018]\n",
      "ZII -- [0.0019]\n"
     ]
    }
   ],
   "source": [
    "for k in keys(found)\n",
    "    print(\"$(probabilityLabels(parse(Int,k,base=2),qubits=3)) -- $(round.(found[k],digits=4))\\n\")\n",
    "end"
   ]
  },
  {
   "cell_type": "markdown",
   "metadata": {},
   "source": [
    "## And that's all folks\n",
    "\n",
    "What do we see, well we recovered 10 values, which is more than advertised. They were all single Pauli errors, and whilst there is some variation - they are all in the right ballpark. 40 seqeunces of 2,000 shots is a relatively small number ot recover to this precision - it only gets better with more qubits and more sequences.\n",
    "    "
   ]
  },
  {
   "cell_type": "code",
   "execution_count": null,
   "metadata": {},
   "outputs": [],
   "source": []
  }
 ],
 "metadata": {
  "@webio": {
   "lastCommId": null,
   "lastKernelId": null
  },
  "kernelspec": {
   "display_name": "Julia 1.4.1",
   "language": "julia",
   "name": "julia-1.4"
  },
  "language_info": {
   "file_extension": ".jl",
   "mimetype": "application/julia",
   "name": "julia",
   "version": "1.4.2"
  }
 },
 "nbformat": 4,
 "nbformat_minor": 2
}
